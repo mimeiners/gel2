{
 "cells": [
  {
   "cell_type": "markdown",
   "id": "5ffdaa06",
   "metadata": {},
   "source": [
    "# Komplexe Wechselstromrechnung\n",
    "\n",
    "## Beschreibung und Analyse im Frequenzbereich\n",
    "\n",
    "::: {.callout-note} \n",
    "\n",
    "### Problemstellung\n",
    "\n",
    "Bei zukünftigen Schaltungen ist es nicht mehr möglich, direkt mit den Zeitfunktionen für Spannungen und Ströme zu\n",
    "arbeiten.\n",
    "\n",
    "Die von den Gleichstromnetzen bekannten Lösungsverfahren aus dem ersten Semester, die von linearen algebraischen\n",
    "Gleichungssystemen ausgehen (Maschen-, Knoten- und andere Verfahren) können nicht übernommen werden.\n",
    ":::\n",
    "\n",
    "::: {.callout-note} \n",
    "\n",
    "### Symbolische Verfahren/Methoden\n",
    "\n",
    "* komplexe Darstellung (analytisches Verfahren)\n",
    "\n",
    "* Zeigerdarstellung (graphisches Verfahren)\n",
    "\n",
    "* Wechselstromanalyse\n",
    "\n",
    "* Betrachtungen beruhen auf der Verwendung sinusförmiger Eingangsgrößen\n",
    "\n",
    "* Zeitbereich ist physikalische Realität mit gew. und partiellen Differentialgleichung (ODE, PDE)\n",
    "\n",
    "* Frequenzbereich hat mathematisch-formale Bedeutung\n",
    ":::"
   ]
  },
  {
   "cell_type": "markdown",
   "id": "5f1c2198",
   "metadata": {},
   "source": [
    "## Symbolisches Verfahren\n",
    "\n",
    "* Man ordnet nach einer gewissen Regel jeder Sinusgröße eine symbolische Größe zu (z.B. einen Vektor oder eine\n",
    "  komplexe Zahl); \n",
    "\n",
    "* Man schreibt die Differentialgleichungen des Netzwerkes mit den symbolischen Größen; \n",
    "\n",
    "* Statt die Differentialgleichungen zu lösen, löst man die Gleichungen für die Symbole und bestimmt die unbekannten Größen.\n",
    "\n",
    "* Man transformiert die gefundenen Symbolgrößen zurück in die gesuchten Sinusgrößen.\n",
    "\n",
    "* entn. [@marinescu2016]"
   ]
  },
  {
   "cell_type": "markdown",
   "id": "6b842375",
   "metadata": {},
   "source": [
    "## Vorteile des Frequenzbereichs\n",
    "\n",
    "* zeitl. Differentiation und Integration geht über in Multiplikation und Division mit dem Differentialoperator\n",
    "  $s=\\sigma+j\\omega$ (komplexe Frequenz); häufig genügt es sich auf die imaginäre Frequenz $s=j \\omega$ zu beschränken. \n",
    "\n",
    "* u-i-Zusammenhänge des Zeitbereichs $\\rightarrow$ ohmsche Form im Frequenzbereich durch komplexen Widerstands-/Leitwertbegriff\n",
    "\n",
    "* ODE's gehen über in algebraische Gleichungen\n",
    "\n",
    "* gleichwertige Darstellung harmonischer Funktionen durch komplexe Größen $\\rightarrow$ Zeiger"
   ]
  },
  {
   "cell_type": "markdown",
   "id": "0f519128",
   "metadata": {},
   "source": [
    "## Funktionaltransformation\n",
    "\n",
    "::: {.callout-note} \n",
    "\n",
    "### Euler'sche Formel\n",
    "\n",
    "$$\n",
    "\\begin{equation}\n",
    "\\sigma + j \\omega = a e^{j \\varphi} = a \\left( \\cos(\\varphi) + j \\sin(\\varphi) \\right) \n",
    "\\end{equation}\n",
    "$$\n",
    "\n",
    "$$\n",
    "\\begin{equation} \n",
    "a = \\sqrt{\\sigma^2 + \\omega^2} \\quad \\mbox{und} \\quad \\varphi = \\arctan\\left(\\frac{\\omega}{\\sigma}\\right)\n",
    "\\end{equation}\n",
    "$$\n",
    ":::\n",
    "\n",
    "::: {.callout-note} \n",
    "\n",
    "### Exponentialdarstellung\n",
    "\n",
    "$$\n",
    "\\begin{align}\n",
    "\\cos(n\\omega t) &= \\frac{1}{2}\\left( e^{j n \\omega t} + e^{-jn\\omega t}\\right), \\quad n=0, 1, \\ldots \\\\\n",
    "\\sin(n\\omega t) &= \\frac{1}{j2}\\left( e^{j n \\omega t} - e^{-jn\\omega t}\\right), \\quad n=0, 1, \\ldots\n",
    "\\end{align}\n",
    "$$\n",
    ":::\n",
    "\n",
    "::: {.callout-note} \n",
    "\n",
    "### Transformation\n",
    "\n",
    "$$\n",
    "\\begin{align}\n",
    "f(t) &= \\hat{A}\\cos(\\omega t + \\varphi_a) \\\\\n",
    "&= \\frac{1}{2} \\underbrace{\\hat{A} e^{j \\varphi_a}}_{Phasor} e^{j \\omega t} \n",
    "+ \\frac{1}{2} \\underbrace{\\hat{A} e^{-j\\varphi_a}}_{Phasor} e^{-j \\omega t} \\\\ \n",
    "&= \\frac{1}{2}\\underline{\\hat{A}} e^{j \\omega t} + \\frac{1}{2}\\underline{\\hat{A}}^{*} e^{-j \\omega t} \\\\\n",
    "&= \\mathfrak{Re}\\left\\{\\underline{\\hat{A}}e^{j\\omega t}\\right\\} \\\\\n",
    "&= \\mathfrak{Re}\\left\\{\\hat{A}e^{j \\varphi_a}e^{j \\omega t}\\right\\} \\\\ \n",
    "&= \\mathfrak{Re}\\left\\{\\hat{A}\\left( \\cos(\\omega t + \\varphi_a) + j \\sin(\\omega t + \\varphi_a)\\right)\\right\\}\n",
    "\\end{align}\n",
    "$$\n",
    ":::\n",
    "\n",
    "### Definitionen\n",
    "\n",
    "::: {.callout-note} \n",
    "\n",
    "### rotierender Zeiger, komplexer Momentanwert\n",
    "\n",
    "$$\n",
    "\\underline{f}(t) = \\underline{\\hat{A}} e^{j\\omega t} = \\hat{A} e^{j \\varphi_a} e^{j \\omega t}\n",
    "$$\n",
    ":::\n",
    "\n",
    "::: {.callout-note} \n",
    "\n",
    "### ruhender Zeiger, komplexer Scheitelwert, Phasor\n",
    "\n",
    "$$\n",
    "\\underline{f}(0) = \\underline{\\hat{A}} = \\hat{A} e^{j\\varphi_a}\n",
    "$$\n",
    ":::\n",
    "\n",
    "::: {.callout-note} \n",
    "\n",
    "### komplexer Effektivwert\n",
    "\n",
    "$$\n",
    "\\underline{A} = \\frac{1}{\\sqrt{2}} \\hat{A} e^{j \\varphi_a}\n",
    "$$\n",
    ":::\n",
    "\n",
    "## Zeigerdarstellung\n",
    "\n",
    "![Phasor-Diagramm](../images/lec/phasor-diagram.pdf){#fig-phasor width=400}"
   ]
  },
  {
   "cell_type": "markdown",
   "id": "e7ab5fcc",
   "metadata": {},
   "source": [
    "### Grundschaltelemente\n",
    "\n",
    "* Sinusgröße $i(t) = I \\sqrt{2} \\sin(\\omega t + \\varphi)$\n",
    "\n",
    "* da alle in einer Schaltung vorkommenen Sinusgrößen (meist) dieselbe Kreisfrequenz $\\omega$ aufweisen, kann man diese\n",
    "  außer Acht lassen und die Zeiger als stehend betrachten; \n",
    "\n",
    "* Der Faktor 2 in den Scheitelwerten aller Sinusgrößen wird nicht berücksichtigt und man arbeitet mit Effektivwerten,\n",
    "  [...], vor allem zur Bestimmung von Leistungen. Man reduziert also die Zeigerlängen im Maßstab $\\frac{1}{\\sqrt{2}}$. "
   ]
  },
  {
   "cell_type": "markdown",
   "id": "db8e1832",
   "metadata": {},
   "source": [
    "### Komplexe Zahlen\n",
    "\n",
    "* Eingabe als Literal"
   ]
  },
  {
   "cell_type": "code",
   "execution_count": null,
   "id": "f23b98a6",
   "metadata": {},
   "outputs": [],
   "source": [
    "z = 3 + 2j"
   ]
  },
  {
   "cell_type": "markdown",
   "id": "8eb29ba0",
   "metadata": {},
   "source": [
    "* Eingabe als Funktion"
   ]
  },
  {
   "cell_type": "code",
   "execution_count": null,
   "id": "98b50584",
   "metadata": {},
   "outputs": [],
   "source": [
    "z = complex(3, 2)"
   ]
  },
  {
   "cell_type": "markdown",
   "id": "5989520d",
   "metadata": {},
   "source": [
    "* Für mathematische Operationen benötigt man eine Bibliothek:"
   ]
  },
  {
   "cell_type": "code",
   "execution_count": null,
   "id": "a19d0e69",
   "metadata": {},
   "outputs": [],
   "source": [
    "import cmath, math, numpy\n",
    "\n",
    "z = 4 + 4j"
   ]
  },
  {
   "cell_type": "markdown",
   "id": "2bb1291f",
   "metadata": {},
   "source": [
    "### Berechnung von Betrag und Phase"
   ]
  },
  {
   "cell_type": "code",
   "execution_count": null,
   "id": "bbe1bff8",
   "metadata": {},
   "outputs": [],
   "source": [
    "z_abs = abs(z) \n",
    "z_ph = cmath.phase(z)\n",
    "print('Betrag =', z_abs)\n",
    "print('Phase in rad =', z_ph)\n",
    "print('Phase in Grad =', numpy.degrees(z_ph))"
   ]
  },
  {
   "cell_type": "markdown",
   "id": "1643a85f",
   "metadata": {},
   "source": [
    "### Darstellung in der komplexen Ebene"
   ]
  },
  {
   "cell_type": "code",
   "execution_count": null,
   "id": "6ad97d6c",
   "metadata": {},
   "outputs": [],
   "source": [
    "import matplotlib.pyplot as plt\n",
    "\n",
    "plt.plot(z.real, z.imag, 'x')"
   ]
  },
  {
   "cell_type": "markdown",
   "id": "d4a91b10",
   "metadata": {},
   "source": [
    "### Kartesische Form\n",
    "\n",
    "### Polare Form\n",
    "\n",
    "### Kartesisch <-> Polar\n",
    "\n",
    "### Euler's Formel\n",
    "\n",
    "### Euler's inverse Formel\n",
    "\n",
    "### Algebraische Regeln"
   ]
  }
 ],
 "metadata": {
  "kernelspec": {
   "display_name": "Python 3 (ipykernel)",
   "language": "python",
   "name": "python3"
  }
 },
 "nbformat": 4,
 "nbformat_minor": 5
}