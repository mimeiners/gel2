{
 "cells": [
  {
   "cell_type": "markdown",
   "id": "6e98ef03",
   "metadata": {},
   "source": [
    "\n",
    "# Schwingkreise \n",
    "\n",
    "```{note} Schwingungen (phys.)\n",
    "\"Schwingungen begleiten uns im Alltag wörtlich auf Schritt und Tritt: In jeder Uhr findet eine Schwingung statt, die zur\n",
    "Zeitmessung verwendet wird. Das fängt bei dem Pendel der altmodischen Pendeluhr an und endet nicht bei der modernen\n",
    "Quarzuhr, in der ein kleines Quarzplättchen mechanische Schwingungen vollführt. Der Prozessor Ihres Smartphones erhält\n",
    "seinen elektrischen Takt ebenfalls von einem solchen Schwingquarz. Wenn wir sprechen, schwingen die Stimmlippen in\n",
    "unserem Kehlkopf und verursachen so den primären Schall, der unsere Stimme formt. Mechanische Konstruktionen und\n",
    "Bauwerke können ebenfalls in Schwingungen geraten, wenn eine äußere Kraft auf sie einwirkt, was in vielen Fällen\n",
    "unerwünscht ist. Auch in elektronischen Systemen finden Schwingungen statt. Hier ändert sich nicht eine mechanische\n",
    "Auslenkung als Funktion der Zeit, sondern eine elektrische Spannung oder ein elektrischer Strom.\n",
    "\n",
    "Sehr viele Phänomene, die bei schwingenden Systemen auftreten, kann man exemplarisch an einfachen mechanischen\n",
    "Systemen studieren. In den einführenden Physik- büchern wird sich dabei meist auf lineare Systeme beschränkt, die zu\n",
    "harmonischen Schwingungen führen. Eine Schwingung bezeichnet man als harmonisch, wenn sie sich durch eine reine Sinus-\n",
    "oder Kosinusfunktion beschreiben lässt. Die Auslenkung $x(t)$ bei einer harmonischen Schwingung lässt sich durch\n",
    "\n",
    "$$\n",
    "x(t) = \\hat{x} \\cos(\\omega t + \\varphi)\n",
    "$$\n",
    "\n",
    "beschreiben. Dabei bezeichnet $\\hat{x}$ die Amplitude der Schwingung, $\\varphi$ ist der Phasenwinkel und $\\omega$\n",
    "die Kreisfrequenz der Schwingung, die mit der Frequenz $f$ über den Faktor $2 \\pi$ verknüpft ist.\n",
    "\n",
    "Für die Beschränkung auf harmonische Schwingungen gibt es zwei Gründe: Zum einen lassen sich solche linearen Systeme gut\n",
    "analytisch behandeln, und zum anderen lassen sich viele nichtlineare Systeme für hinreichend kleine Auslenkungen gut\n",
    "durch entsprechende lineare Systeme annähern. Für die Behandlung von schwingungsfähigen Systemen mit dem Computer bieten\n",
    "sich zwei Aspekte besonders an: Wir können die Effekte der linearen Schwingungsphysik visualisieren und zum Teil auch\n",
    "hörbar machen, um damit ein intuitiveres Verständnis dieser Phänomene zu gewinnen. Darüber hinaus bieten uns die in\n",
    "diesem Buch bereits besprochenen Verfahren die Möglichkeit, auch nichtlineare Schwingungen zu untersuchen.\" \n",
    "```\n",
    "Entn. {cite}`natt2020`"
   ]
  },
  {
   "cell_type": "markdown",
   "id": "29a747c0",
   "metadata": {},
   "source": [
    "```{note} Schwingkreise (elek.)\n",
    "\"Eine physikalische Anordnung ist schwingungsfähig, wenn sie mindestens zwei Energiespeicher unterschiedlichen\n",
    "physikalischen Charakters enthält, die miteinander Energie austauschen kön- nen. Eine solche Anordnung wird als\n",
    "Schwingkreis bezeichnet.\n",
    "\n",
    "In elektrischen Schaltungen sind diese unterschiedlichen Typen von Energiespeichern Induktivitäten, die magnetische\n",
    "Feldenergie speichern und Kapazitäten zur Speicherung elektrischer Feldenergie.\n",
    "\n",
    "Die in einer Kapazität gespeicherte Energie wird durch den Wert C der Kapazität und die Spannung u an der Kapazität\n",
    "bestimmt, die in einer Induktivität gespeicherte Energie durch den Wert L der Induktivität und den Strom i durch die\n",
    "Induktivität.\n",
    "\n",
    "Zu unterscheiden ist zwischen freien und erzwungenen Schwingungen. Bei freien Schwingungen [...] wird einer\n",
    "physikalischen Anordnung einmalig Energie zugeführt und sie sich dann selbst überlassen. Durch unvermeidliche\n",
    "Verlustmechanismen, die dazu führen, dass im Schwingkreis pendelnde Energie in Wärme umgesetzt wird, klingt die\n",
    "Schwingung zeitlich ab. Bei erzwungenen Schwingungen [...] wird einer zunächst energielosen Anordnung\n",
    "periodisch von außen Energie zugeführt. Ein Teil dieser Energie wird zur Kompensation der mit der Schwingungsintensität \n",
    "ansteigenden Verluste benötigt, der Rest pendelt zwischen den Energiespeichern. Ändert sich die Art der periodischen\n",
    "Energiezufuhr nicht, so stellt sich nach einem Einschwingvorgang in der Anordnung eine stationäre Schwingung\n",
    "(eingeschwungener Zustand) ein.\"\n",
    "```\n",
    "Entn. {cite}`harriehausen2020`"
   ]
  },
  {
   "cell_type": "markdown",
   "id": "ea9f217c",
   "metadata": {},
   "source": [
    "## Zusammenfassung der physikalische Grundlagen\n",
    "\n",
    "* periodische Zustandsänderung in einem physikalischen System\n",
    "\n",
    "* periodischer Energieaustausch zw. zwei unterschiedlichen Energiespeichern (potentiellen und kinetischen), z.B. Feder\n",
    "  und Masse, Induktivität und Kapazität \n",
    "  \n",
    "* maßgebende Zustandsgröße $x(t)$, z.B. Auslenkung, Spannung oder Ladung, folgen einer gewöhnlichen\n",
    "  Differenzialgleichung (DGL) $\\ddot{x} + \\omega_0 x = 0$\n",
    "\n",
    "* harmonische Schwingung, $x(t+T_0) = x(t)$, wobei $T_0$ Periode, $\\omega_0=2 \\pi f_0 = 2\\pi \\frac{1}{T_0}$\n",
    "  Eigenfrequenz und $f_0$ Resonanzfrequenz \n",
    "  \n",
    "* DGL gehorcht dem Energieerhaltungssatz\n",
    "\n",
    "\\begin{align}\n",
    "W_{ges}(x) &= W_{pot}(x) + W_{kin}(x) = const. \\\\\n",
    "\\frac{d W_{ges}}{dt} &= \\frac{dW_{pot}}{dx} \\frac{dx}{dt} + \\frac{d W_{kin}}{dx} \\frac{d x}{dt} = 0 \\\\\n",
    "x(t) &= x_{max} \\cos(\\omega_0 t + \\varphi_0)\n",
    "\\end{align}"
   ]
  },
  {
   "cell_type": "markdown",
   "id": "e10fb9bb",
   "metadata": {},
   "source": [
    "* Zusammenschaltung von Induktivität $L$ und Kapazität $C$ heißt (idealer) Schwing- oder Resonanzkreis\n",
    "\n",
    "\\begin{align}\n",
    "W_{pot} &:= \\mbox{Kondensator} \\\\\n",
    "W_{kin} &:= \\mbox{Induktivität}\n",
    "\\end{align}\n",
    "\n",
    "* freie und erzwungene Schwingung\n",
    "\n",
    "* ungedämpfte und gedämpfte Schwingung"
   ]
  },
  {
   "cell_type": "markdown",
   "id": "0da133b5",
   "metadata": {},
   "source": [
    "## RLC-Reihenschwingkreis (aktiver Zweipol)\n",
    "\n",
    "```{figure} ../images/class/lec6rlc.pdf\n",
    ":width: 400px\n",
    ":name: fig:lec6rlc\n",
    "```"
   ]
  },
  {
   "cell_type": "markdown",
   "id": "29c85a5a",
   "metadata": {},
   "source": [
    "```{admonition} Maschengleichung (Zeitbereich)\n",
    "\n",
    "\\begin{align}\n",
    "u_1(0) &= L \\frac{di}{dt} + i\\, R + \\frac{1}{C} \\int i dt  \\\\\n",
    "0 &= \\frac{di}{dt^2} + \\frac{R}{L} \\frac{di}{dt} + \\frac{1}{LC} i\n",
    "\\end{align}\n",
    "```"
   ]
  },
  {
   "cell_type": "markdown",
   "id": "544060d1",
   "metadata": {},
   "source": [
    "```{admonition} Lösung der Differentialgleichung\n",
    "\n",
    "$$\n",
    "i(t) = \\underbrace{I_0 e^{-d \\omega_0 t}}_{Dämpfung} \\underbrace{\\sin\\left(\\sqrt{1 -d^2} \\omega_0 t\\right)}_{harm. Schwingung}\n",
    "$$\n",
    "```"
   ]
  },
  {
   "cell_type": "markdown",
   "id": "5cebef9c",
   "metadata": {},
   "source": [
    "````{admonition} Spannungsübertragungsfaktor\n",
    "\n",
    "Entn. {cite}`reisch2007`\n",
    "\n",
    "\\begin{align}\n",
    "\\underline{H}_u(j \\omega) = \\frac{\\underline{U}_2}{\\underline{U}_1} &= \\frac{1}{1 + j \\omega R C + \\omega^2 LC} \\\\\n",
    "&= \\frac{1}{1 + j \\frac{\\omega}{\\omega_0 Q} + \\left(\\frac{\\omega}{\\omega_0}\\right)^2}\n",
    "\\end{align}\n",
    "\n",
    "* Eigenfrequenz / Resonanzfrequenz $\\omega_0 = \\frac{1}{\\sqrt{L C}}$\n",
    "\n",
    "* Abklingkonstante $\\delta = \\frac{R}{\\omega_0 L}$\n",
    "\n",
    "* Dämpfung / Verlustfaktor $d = \\frac{1}{Q} = \\frac{R}{\\omega_0 L} = \\frac{2 \\delta}{\\omega_0}$\n",
    "\n",
    "* Güte $Q = \\frac{\\vert Q(\\omega_0) \\vert}{P(\\omega_0)} = \\frac{1}{\\omega_0 RC} = \\frac{\\omega_0}{2 \\delta}$\n",
    "  - $\\vert Q(\\omega_0) \\vert$ ist der Betrag der Blindleistung \n",
    "  - $P(\\omega_0)$ ist die Wirkleistung\n",
    "\n",
    "* Analyse mit LTspice und Python [GitHub](https://github.com/DongHoonPark/ltspice_pytool)\n",
    "  Installation mit Anaconda-Shell oder Windows-Shell (CMD/PowerShell)\n",
    "\n",
    "  ```shell\n",
    "  $ pip install -U ltspice\n",
    "  ```\n",
    "````\n",
    "\n",
    "\n",
    "```python\n",
    "import ltspice\n",
    "import numpy as np\n",
    "import matplotlib.pyplot as plt\n",
    "\n",
    "# %% Laden der RAW LTspice Daten in den Python-Workspace\n",
    "file = \"../files/spice/kap137_reisch.raw\"\n",
    "data = ltspice.Ltspice(file)\n",
    "data.parse()\n",
    "\n",
    "# %% Zuweisen der Simulationdaten an lokale Variablen\n",
    "Hu = data.get_data(\"v(vo)\")\n",
    "freq = data.get_data(\"frequency\")\n",
    "\n",
    "# %% Daten werden als Numpy-Array geladen, Typ complex\n",
    "Hu_dB = 20*np.log10(np.abs(Hu))\n",
    "Hu_arg = 180 / np.pi * np.angle(Hu)\n",
    "f = freq.real\n",
    "\n",
    "# %% Erzeugen des Bode-Diagramms (Plot)\n",
    "fig1 = plt.figure(1)\n",
    "plt.subplot(2, 1, 1)\n",
    "plt.semilogx(f, Hu_dB)\n",
    "plt.grid()\n",
    "plt.ylabel(r'$H_u(f)$/dB')\n",
    "plt.subplot(2, 1, 2)\n",
    "plt.grid()\n",
    "plt.semilogx(f, Hu_arg)\n",
    "plt.ylabel(r'arg($H_u(f)$)/deg')\n",
    "plt.xlabel('Frequenz f/Hz')\n",
    "plt.show()\n",
    "```\n"
   ]
  },
  {
   "cell_type": "markdown",
   "id": "ddae83a8",
   "metadata": {},
   "source": [
    "## Grundeigenschaften von Reihen- und Parallelschwingkreis (passiver Zweipol)\n",
    "\n",
    "```{admonition} Resonanzfrequenz\n",
    "\n",
    "* Thomsonsche Formel $\\omega_0 = \\frac{1}{L_r C_r} = \\frac{1}{L_p C_p}$\n",
    "\n",
    "* bei Resonanz erreichen Impedanz und Admittanz ein Minimum\n",
    "\n",
    "\\begin{align}\n",
    "\\left . \\underline{Z} \\right\\lvert_{\\omega_0} &\\Rightarrow \\lvert\\underline{Z}\\lvert = R_r \\\\\n",
    "\\left . \\underline{Y} \\right\\lvert_{\\omega_0} &\\Rightarrow \\lvert\\underline{Y}\\lvert = G_p\n",
    "\\end{align}\n",
    "\n",
    "\n",
    "|   | $X(\\omega)$ | $B(\\omega)$ |\n",
    "|---|---|---|\n",
    "|$\\omega < \\omega_0$ | *kapazitiv* | *induktiv* | \n",
    "|$\\omega > \\omega_0$ | *induktiv* | *kapazitiv* |\n",
    "```"
   ]
  },
  {
   "cell_type": "markdown",
   "id": "f8ced2fd",
   "metadata": {},
   "source": [
    "```{admonition} Reihenkreis (Impedanz)\n",
    "\n",
    "\\begin{align}\n",
    "\\underline{Z} &= R_r + j\\left(\\omega L_r - \\frac{1}{\\omega C_r}\\right) \\\\\n",
    "&= R_r + j X(\\omega) \\\\\n",
    "\\lvert\\underline{Z}\\lvert &= \\sqrt{R_r^2 + X^2(\\omega)} \\\\\n",
    "\\arg{\\underline{Z}} &= \\arctan \\frac{X(\\omega)}{R_r}\n",
    "Q = \\frac{\\omega_0 L}{R} = \\frac{1}{R}\\sqrt{\\frac{L}{C}}\n",
    "\\end{align}\n",
    "```"
   ]
  },
  {
   "cell_type": "markdown",
   "id": "adc50877",
   "metadata": {},
   "source": [
    "```{admonition} Parallelkreis (Admittanz)\n",
    "\\begin{align}\n",
    "\\underline{Y} &= G_p + j\\left(\\omega C_p- \\frac{1}{\\omega L_p}\\right) \\\\\n",
    "&= G_r + j B(\\omega) \\\\\n",
    "\\lvert\\underline{Y}\\lvert &= \\sqrt{G_p^2 + B^2(\\omega)} \\\\\n",
    "\\arg{\\underline{Y}} &= \\arctan \\frac{B(\\omega)}{G_p}\n",
    "Q &= \\frac{\\omega_0 C}{G} = \\frac{1}{G}\\sqrt{\\frac{C}{L}}\n",
    "\\end{align}\n",
    "```"
   ]
  },
  {
   "cell_type": "markdown",
   "id": "b9c5c818",
   "metadata": {},
   "source": [
    "## Vereinheitlichte Kennzeichnung\n",
    "\n",
    "```{admonition} Verstimmung $v$, relative Frequenzabweichung\n",
    "\\begin{align}\n",
    "v &= \\frac{\\omega}{\\omega_0}-\\frac{\\omega_0}{\\omega}\n",
    "\\end{align}\n",
    "```"
   ]
  },
  {
   "cell_type": "markdown",
   "id": "8bb7e6d5",
   "metadata": {},
   "source": [
    "```{admonition} Normierte Darstellung\n",
    "\\begin{align}\n",
    "\\underline{Z} &= R \\left( 1 + j \\frac{1}{R} \\left( \\frac{\\omega \\omega_0 \\omega L}{\\omega_0}\n",
    "- \\frac{\\omega_0}{\\omega_0 \\omega C}\\right)\\right) \\\\\n",
    "&= R (1 + Q v) \\\\\n",
    "\\underline{Y} &= G (1 + j Q v)\n",
    "\\end{align}\n",
    "```"
   ]
  },
  {
   "cell_type": "markdown",
   "id": "ebfa8f4f",
   "metadata": {},
   "source": [
    "```{admonition} Betrag und Phase\n",
    "\\begin{align}\n",
    "\\frac{\\lvert\\underline{Z}\\lvert}{R} = \\frac{\\lvert \\underline{Y}\\lvert}{G} &= \\sqrt{1 + \\left( Q v \\right)} \\\\\n",
    "\\varphi_Z = \\varphi_Y &= \\arctan\\left( Q v \\right)\n",
    "\\end{align}\n",
    "```"
   ]
  },
  {
   "cell_type": "markdown",
   "id": "8d0ad518",
   "metadata": {},
   "source": [
    "```{admonition} 45$^{\\circ}$-, $\\frac{\\pi}{4}$- oder 3dB-Frequenz \n",
    "Der Phasenwinkel $\\varphi$ ist gleich 45$^{\\circ}$ und Betrag der Blindkomponente ist gleich der Wirkkomponente.\n",
    "\n",
    "\\begin{align}\n",
    "\\lvert X(\\omega_{\\pm 45}) \\lvert &= \\pm R &  \\lvert B(\\omega_{\\pm 45}) \\lvert &= \\pm G \\\\\n",
    "\\omega_{\\pm 45} L - \\frac{1}{\\omega_{\\pm 45} C} &= \\pm R &  \\omega_{\\pm 45} C - \\frac{1}{\\omega_{\\pm 45} L} &= \\pm G\n",
    "\\end{align}\n",
    "\n",
    "\\begin{align}\n",
    "\\omega_{\\pm 45} &= \\omega_0 \\left( \\sqrt{1 + \\left(\\frac{1}{2Q}\\right)^2} \\pm \\frac{1}{2Q}\\right) \\approx \\omega_0 \\left( 1 \\pm \\frac{1}{2Q}\\right)\n",
    "\\end{align}\n",
    "\n",
    "\\begin{align}\n",
    "\\lvert \\underline{Z(\\omega_{\\pm 45})} \\lvert &= \\sqrt{2} R &  \\lvert \\underline{Y(\\omega_{\\pm 45})} \\lvert &= \\sqrt{2} G\n",
    "\\end{align}\n",
    "```"
   ]
  },
  {
   "cell_type": "markdown",
   "id": "e510d1ed",
   "metadata": {},
   "source": [
    "```{admonition} Bandbreite BW (bandwidth)\n",
    "\\begin{align}\n",
    "BW &= \\omega_{45} - \\omega_{-45} = \\frac{\\omega_0}{Q} \\\\\n",
    "&= f_{45} - f_{-45} = \\frac{f_0}{Q} \\\\\n",
    "\\end{align}\n",
    "```"
   ]
  },
  {
   "cell_type": "markdown",
   "id": "90fc0f94",
   "metadata": {},
   "source": [
    "## Gegenüberstellung der Eigenschaften der elementaren Schwingkreise\n",
    "\n",
    "```{figure} ../images/class/lec6elemSchwing.pdf\n",
    ":name: fig:lec6elemSchwing\n",
    "```\n",
    "Entn. aus {cite}`harriehausen2020`\n"
   ]
  },
  {
   "cell_type": "markdown",
   "id": "71a638b0",
   "metadata": {},
   "source": [
    "## Literaturverzeichnis\n",
    "\n",
    "```{bibliography}\n",
    ":filter: docname in docnames\n",
    "```"
   ]
  }
 ],
 "metadata": {
  "jupytext": {
   "cell_metadata_filter": "-all"
  },
  "kernelspec": {
   "display_name": "Python 3 (ipykernel)",
   "language": "python",
   "name": "python3"
  }
 },
 "nbformat": 4,
 "nbformat_minor": 5
}