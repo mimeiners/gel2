{
 "cells": [
  {
   "cell_type": "markdown",
   "id": "be4e6d82",
   "metadata": {},
   "source": [
    "# Spannungsteiler\n",
    "\n",
    "## Schaltungsaufgabe mit Zeigerdiagramm\n",
    "\n",
    "```{figure} ../images/exercise/hw3p1.png\n",
    ":width: 400px\n",
    ":name: fig:hw3p1\n",
    "\n",
    "RLC-Schaltung für das Zeigerdiagramm.\n",
    "```\n",
    "\n",
    "Gegeben ist die RLC-Schaltung in {numref}`fig:hw3p1`. Dabei sind die Bauteilwerte $R=100\\,\\Omega$, $L=1\\,\\mu H$,\n",
    "$C=1\\,nF$ und die Spannungsquelle $u(t)=\\hat{U} \\cos(\\omega t)$ mit $\\hat{U}=1,41\\,V$ und $\\omega=2 \\pi 6\\,MHz$. \n",
    "\n",
    "### Zeigerdiagramm\n",
    "\n",
    "Die Aufgabe besteht darin, das Zeigerdiagramm für alle Teilströme und Teilspannungen zu erstellen"
   ]
  },
  {
   "cell_type": "markdown",
   "id": "030d5897",
   "metadata": {},
   "source": [
    "#### Schrittweise graphische Lösung\n",
    "\n",
    "1. $\\vec{I_R}$ und $\\vec{U_R}$ sind reelle Zeiger in Phase. Diese beiden Zeiger als Bezug mit selbst definierten Längen\n",
    "  einzeichnen, z.B. $\\vec{I_R} = 5\\,cm$ und $\\vec{U_R} = 10\\,cm$. \n",
    "\n",
    "2. $\\vec{I_L}$ mit -90$^{\\circ}$ bezüglich $\\vec{U_R}$ einzeichnen. Zur Bestimmung der Länge muss nun der Zeiger für\n",
    "  den Strom durch die Induktivität im Bezug zum Zeiger für den Strom durch den Widerstand bestimmt werden, da Strom- und\n",
    "  Spannungszeiger am Widerstand als Referenz für das Zeigerdiagramm zu Beginn gesetzt worden sind.\n",
    "\n",
    "$$\n",
    "\\vert\\vec{I_L}\\vert = \\frac{\\vert\\vec{U_L}\\vert}{\\omega L} \n",
    "= \\frac{\\vert\\vec{U_R}\\vert}{\\omega L} \n",
    "= \\frac{\\vert\\vec{U_L}\\vert}{R}\\frac{R}{\\omega L} \n",
    "= \\vert\\vec{I_R}\\vert \\cdot 2.65\n",
    "$$\n",
    "\n",
    "3. Jetzt den Summenvektor für den Gesamtstrom $\\vec{I}=\\vec{I_R}+\\vec{I_L}$ einzeichnen.\n",
    "\n",
    "4. Die Spannung am Kondensator mit -90$^{\\circ}$ bezüglich $\\vec{I}$ einzeichnen. Wie auch schon beim Strom durch die\n",
    "\tInduktivität wird die Länge des Zeigers für die Spannung am Kondensator durch einen Faktor zum Referenzzeiger,\n",
    "\t$\\vec{U_R}$, ausgedrückt.\n",
    "\n",
    "$$\n",
    "\\vert\\vec{U_C}\\vert = \\frac{\\vert\\vec{I}\\vert}{\\omega C} \n",
    "= \\frac{\\vert\\vec{I}\\vert}{\\vert\\vec{I_R}\\vert} \\cdot \\frac{\\vert\\vec{I_R}\\vert}{\\omega C} \n",
    "= \\frac{\\vert\\vec{I}\\vert}{\\vert\\vec{I_R}\\vert} \\cdot R \\vert\\vec{I_R}\\vert \\cdot \\frac{1}{\\omega R C} \n",
    "= 2.85 \\cdot \\vert\\vec{U_R}\\vert \\cdot 0.265 = 0.76 \\vert\\vec{U_R}\\vert\n",
    "$$\n",
    "\n",
    "5. Final den Summenvektor für die Quellenspannung einzeichnen; $\\vec{U} = \\vec{U_C} + \\vec{U_R}$\n",
    "\n",
    "```{figure} ../images/exercise/hw3p1a.png\n",
    ":width: 400px\n",
    "\n",
    "Zeigerdiagramm.\n",
    "```\n",
    "\n",
    "## Kompensierter Spannungsteiler\n",
    "\n",
    "Die abgebildete Schaltung in {numref}`fig:hw3p2` stellt das Prinzip eines Oszilloskoptastkopfes\n",
    "dar, ein sogenannter kompensierter Spannungsteiler. Dabei bezeichnen $R$ und $C$ Widerstand und Kapazität des \n",
    "Oszilloskopeingangs. $R_1 = 9\\,M\\Omega$, $R = 1\\,M\\Omega$, $R_2 = 1\\,M\\Omega$, $C = 10\\,pF$.\n",
    "\n",
    "```{figure} ../images/exercise/hw3p2.png\n",
    ":width: 400px\n",
    ":name: fig:hw3p2\n",
    "\n",
    "Ersatzschaltbild eines Oszilloskop-Tastkopfes.\n",
    "```\n",
    "\n",
    "vgl. [Kapazitiver Spannungsteiler](https://www.elektroniktutor.de/analogtechnik/c_teiler.html) {cite}`mietke2024`\n",
    "\n",
    "(sec:hw3p1)=\n",
    "### Spannungsteiler\n",
    "Leiten Sie den Spannungsübertagungsfaktor $\\underline{H}_u=\\underline{U}_{osz}/\\underline{U}$ allgemein für die angegebenen\n",
    "Bauteile her?\n",
    "\n",
    "#### Lösung\n",
    "Zeichnen Sie ein vereinfachtes Ersatzschaltbild mit zusammengefassten Impedanzen $Z_1$ und $Z_2$.\n",
    "\n",
    "```{figure} ../images/exercise/hw3p2a.png\n",
    ":height: 200\n",
    "\n",
    "Ersatzschaltbild des Tastkopfes zusammengefasst.\n",
    "```\n",
    "\n",
    "\\begin{equation}\n",
    "Z_1 = \\frac{\\frac{R_1}{j\\omega C_1}}{\\frac{1}{j \\omega C_1} + R_1} = \\frac{R_1}{1 + j \\omega R_1 C_1} \n",
    "\\end{equation}\n",
    "\n",
    "\\begin{equation} \n",
    "Z_2 = \\frac{R_{2g}}{1+ j \\omega R_{2g} C}, \\quad \\mbox{wobei} \\quad  R_{2g}=\\frac{R_2 R}{R_2+R}\n",
    "\\end{equation}"
   ]
  },
  {
   "cell_type": "markdown",
   "id": "cedd411f",
   "metadata": {},
   "source": [
    "Mit diesen Definitionen bestimmt man das Spannungsverhältnis:\n",
    "\n",
    "\\begin{equation}\n",
    "\\underline{H}_u = \\frac{\\underline{U_{osz}}}{\\underline{U}}= \\frac{\\underline{Z}_2}{\\underline{Z}_1 + \\underline{Z}_2}.\n",
    "\\end{equation}"
   ]
  },
  {
   "cell_type": "markdown",
   "id": "a9fddfc7",
   "metadata": {},
   "source": [
    "### Eingangsimpedanz\n",
    "Wie groß ist die Eingangsimpedanz $\\underline{Z}=\\underline{U}/\\underline{I}$ des Tastkopfes?"
   ]
  },
  {
   "cell_type": "markdown",
   "id": "1c07719a",
   "metadata": {},
   "source": [
    "#### Lösung\n",
    "Mit den Vorarbeiten aus {ref}`sec:hw3p1` kann man an dieser Stelle die Eingangsimpedanz des Tastkopfes als Reihenschaltung der \n",
    "Impedanzen $Z_1$ und $Z_2$ notieren.\n",
    "\n",
    "\\begin{equation}\n",
    "\\underline{Z} = \\underline{Z}_1 + \\underline{Z}_2 = \\frac{R_1}{1 + j \\omega R_1 C_1} + \\frac{R_{2g}}{1+ j \\omega R_{2g} C}\n",
    "\\end{equation}"
   ]
  },
  {
   "cell_type": "markdown",
   "id": "6622dbdf",
   "metadata": {},
   "source": [
    "### Kapazität\n",
    "Wie muß die Kapazität $C_1$ gewählt werden, damit das Verhältnis $\\underline{H}=\\underline{U}_{osz}/\\underline{U}$ für\n",
    "alle Frequenzen gleich groß ist?\n",
    "\n",
    "#### Lösung\n",
    "Ähnlich einer Abgleichbedingung für eine Wechselstrommessbrücke kann man an dieser Stelle argumentieren, dass das\n",
    "Spannungsverhältnis $\\underline{H}$ für alle Frequenzen gleich groß ist, sofern $R_1C_1 = R_{2g}C$ gilt.\n",
    "\n",
    "Die mathematische/ingenieurische Begründung ist wie folgt:\n",
    "\n",
    "\\begin{equation}\n",
    "\\frac{1}{Z_1} = \\frac{1}{R_1} + j \\omega C_1 \n",
    "\\end{equation}\n",
    "\n",
    "\\begin{equation} \n",
    "\\frac{1}{Z_2} = \\frac{1}{R_{2g}} + j \\omega C \n",
    "\\end{equation}"
   ]
  },
  {
   "cell_type": "markdown",
   "id": "6884d2b7",
   "metadata": {},
   "source": [
    "\\begin{equation} \n",
    "\\underline{H} = \\frac{U_{osz}}{U} = \\frac{Z_2}{Z_1 + Z_2} = \\frac{1}{1+\\frac{Z_1}{Z_2}}\n",
    "= \\frac{1}{1+\\frac{\\frac{1}{R_{2g}}+j \\omega C}{\\frac{1}{R_1}+j \\omega C_1}}\n",
    "= \\frac{1}{1+\\frac{R_1}{R_{2g}}\\frac{1+j \\omega R_{2g} C}{1+ j \\omega R_1 C_1}}\n",
    "\\end{equation}"
   ]
  },
  {
   "cell_type": "markdown",
   "id": "ae5eb845",
   "metadata": {},
   "source": [
    "Hieraus folgt dann die Bestimmungsgleichung für den Kondensator $C_1$:\n",
    "\n",
    "\\begin{equation}\n",
    "C_1 = \\frac{R_{2g}}{R_1} C = \\frac{0.5}{9} 10\\,pF = 0.55\\,pF.\n",
    "\\end{equation}\n"
   ]
  },
  {
   "cell_type": "markdown",
   "id": "e24ce4e4",
   "metadata": {},
   "source": [
    "## RC-Spannungsteiler\n",
    "Gegeben ist der abgebildete Spannungsteiler in {numref}`fig:hw3p3` mit zwei Widerständen und einem Kondensator.\n",
    "\n",
    "```{figure} ../images/exercise/hw3p3.png\n",
    ":width: 400px\n",
    ":name: fig:hw3p3\n",
    "\n",
    "RC-Spannungsteiler.\n",
    "```\n",
    "\n",
    "### Spannungsverhältnis\n",
    "Berechnen Sie den komplexen Spannungsübertragungsfaktor $\\underline{H}_u=\\underline{U}_2/\\underline{U}_1$."
   ]
  },
  {
   "cell_type": "markdown",
   "id": "ce7d7ffd",
   "metadata": {},
   "source": [
    "#### Lösung\n",
    "Fassen Sie die Bauteile zu Impedanzen $Z_1$ und $Z_2$ zusammen. Das gesuchte Spannungsverhältnis erhalten Sie aus der\n",
    "Spannungsteilerregel."
   ]
  },
  {
   "cell_type": "markdown",
   "id": "5f5d2d11",
   "metadata": {},
   "source": [
    "```{figure} ../images/exercise/hw3p3a.png\n",
    ":width: 400px\n",
    "\n",
    "RC-Spannungsteiler zusammengefasst.\n",
    "```\n",
    "\n",
    "\\begin{equation}\n",
    "\\underline{Z}_1 = R_1  \\underline{Z}_2 = R_2 + \\frac{1}{j \\omega C} \n",
    "\\end{equation}"
   ]
  },
  {
   "cell_type": "markdown",
   "id": "ae0b0d32",
   "metadata": {},
   "source": [
    "\\begin{equation} \n",
    "\\underline{H} = \\frac{\\underline{U}_2}{\\underline{U}_1} = \\frac{\\underline{Z}_2}{\\underline{Z}_1+\\underline{Z}_2} \n",
    "= \\frac{R_2+\\frac{1}{j \\omega C}}{R_1+R_2+\\frac{1}{j \\omega C}} \n",
    "= \\frac{1+j \\omega R_2C}{1 + j \\omega (R_1+R_2)C}\n",
    "\\end{equation}"
   ]
  },
  {
   "cell_type": "markdown",
   "id": "b12cada0",
   "metadata": {},
   "source": [
    "### Betrag und Phase\n",
    "Stellen Sie den Betrag und den Phasenwinkel von $\\underline{H}_u$ als Funktion von $\\omega$ für den Fall\n",
    "$R_1 = 1\\,\\Omega$, $R_2 = 100\\,\\Omega$ und $C = 1\\,\\mu F$ mit Python dar."
   ]
  },
  {
   "cell_type": "markdown",
   "id": "94c8954f",
   "metadata": {},
   "source": [
    "#### Lösung\n",
    "Mit der Vorarbeit aus {ref}`sec:hw3p1` können Sie die Ausdrücke für Betrag und Phase der Spannungsübertragungsfunktion\n",
    "$\\underline{H}$ direkt ablesen. Der Betrag ist der Quotient der Beträge von Zähler und Nenner.\n",
    "\n",
    "\\begin{equation}\n",
    "\\vert \\underline{H} \\vert =  \\frac{\\vert 1 + j \\omega R_2 C \\vert}{\\vert 1 + j \\omega (R_1+R_2) C \\vert} \n",
    "= \\frac{\\sqrt{1 + (\\omega R_2 C)^2}}{\\sqrt{1+(\\omega (R_1+R_2) C)^2}} \n",
    "= \\sqrt{\\frac{1 + (\\omega R_2 C)^2}{1 + (\\omega (R_1+R_2) C)^2}}\n",
    "\\end{equation}"
   ]
  },
  {
   "cell_type": "markdown",
   "id": "ec66c05f",
   "metadata": {},
   "source": [
    "Für die Phase, das Argument von $\\underline{H}$, kann auch der Quotient der Argumente von Zähler und Nenner gebildet\n",
    "werden.\n",
    "\n",
    "\\begin{equation}\n",
    "\\arg(\\underline{H}) = \\frac{\\arg(1 + j \\omega R_2 C)}{\\arg(1 + j \\omega (R_1+R_2) C)} \n",
    "= \\frac{\\arctan(\\omega R_2 C)}{\\arctan(\\omega (R_1+R_2) C)} \n",
    "= \\arctan(\\omega R_2 C) - \\arctan(\\omega (R_1+R_2) C)\n",
    "\\end{equation}\n"
   ]
  },
  {
   "cell_type": "code",
   "execution_count": null,
   "id": "82ff248d",
   "metadata": {
    "lines_to_next_cell": 0
   },
   "outputs": [],
   "source": [
    "import numpy as np\n",
    "import matplotlib.pyplot as plt\n",
    "\n",
    "# Definitionen\n",
    "\n",
    "# Datenbereich\n",
    "f = np.logspace(0, 6)  # Hz logarithmisch\n",
    "w = 2 * np.pi * f\n",
    "\n",
    "# Bauteilwerte\n",
    "R1 = 1\n",
    "R2 = 100\n",
    "C = 1e-6\n",
    "\n",
    "# Übertragungsfunktion\n",
    "H_u = (1 + 1j * w * R2 * C) / (1 + 1j * w * (R1 + R2) * C)\n",
    "\n",
    "# Erstellen des Bode-Diagramms\n",
    "\n",
    "# Mit direkten Funktionen aus numpy\n",
    "fig1 = plt.figure(1)\n",
    "plt.subplot(2, 1, 1)\n",
    "plt.semilogx(f, 20*np.log10(np.abs(H_u)))\n",
    "plt.grid()\n",
    "plt.ylabel(r'$\\vert H_u \\vert$/dB')\n",
    "plt.subplot(2, 1, 2)\n",
    "plt.semilogx(f, np.rad2deg(np.angle(H_u)))\n",
    "plt.grid()\n",
    "plt.ylabel(r'arg($H_u$)/Grad')\n",
    "plt.xlabel(r'Frequenz f/Hz')\n",
    "plt.title(r'Mit Bibliotheksfunktionen')\n",
    "\n",
    "\n",
    "# Mit eigenen Berechnungen\n",
    "# Betrag der Übertragungsfunktion\n",
    "abs_H_u = 20*np.log10(np.sqrt((1 + np.square(w * R2 * C)) / (1 + np.square(w * (R1 + R2) * C))))\n",
    "\n",
    "# Phase bzw. Argument der Übertragungsfunktion\n",
    "arg_H_u = np.arctan(w * R2 * C) - np.arctan(w * (R1 + R2) * C)\n",
    "\n",
    "fig2 = plt.figure(2)\n",
    "plt.subplot(2, 1, 1)\n",
    "plt.semilogx(f, abs_H_u)\n",
    "plt.grid()\n",
    "plt.ylabel(r'$\\vert H_u \\vert$/dB')\n",
    "plt.subplot(2, 1, 2)\n",
    "plt.semilogx(f, 180 / np.pi * arg_H_u)\n",
    "plt.grid()\n",
    "plt.ylabel(r'arg($H_u$)/Grad')\n",
    "plt.xlabel(r'Frequenz f/Hz')\n",
    "plt.title(r'Mit eigenen Berechnungen')"
   ]
  },
  {
   "cell_type": "markdown",
   "id": "5c421f3c",
   "metadata": {},
   "source": []
  }
 ],
 "metadata": {
  "kernelspec": {
   "display_name": "Python 3 (ipykernel)",
   "language": "python",
   "name": "python3"
  }
 },
 "nbformat": 4,
 "nbformat_minor": 5
}