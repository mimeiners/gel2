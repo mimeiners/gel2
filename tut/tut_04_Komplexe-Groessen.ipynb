{
 "cells": [
  {
   "cell_type": "markdown",
   "id": "7fdad1fd",
   "metadata": {},
   "source": [
    "# 4. Komplexe Größen der Wechselstromtechnik\n",
    "\n",
    "- Zeigerdiagramm\n",
    "- Komplexe Drehzeiger\n",
    "- Komplexer Festzeiger\n",
    "- Komplexer Widerstand\n",
    "- Komplexer Leitwert"
   ]
  },
  {
   "cell_type": "markdown",
   "id": "25389cbe",
   "metadata": {},
   "source": [
    "## Zeigerdiagramm\n",
    "\n",
    "```{figure} ../images/Tutorium/chap4/Zeigerdiagramm.pdf\n",
    ":name: fig:TutChap4Zeigerdiagramm\n",
    "```\n",
    "{cite}`Fricke1982`"
   ]
  },
  {
   "cell_type": "markdown",
   "id": "0b708a0b",
   "metadata": {},
   "source": [
    "Der Zeiger einer Sinusgröße ist wie die Sinusschwingung (physikalische Größe) durch 4 Kennwerte festgelegt:\n",
    "\n",
    "- Die Art der Größe (z.B. Spannung, Strom, magn. Fluss) ist durch das Formelzeichen festgelegt.\n",
    "- Der Betrag der Größe wird durch die Länge des Zeigers angegeben. Hier ist ein Maßstab notwendig.\n",
    "- Die Phasenlage zwischen zwei Sinusgrößen kann durch die Phasenwinkel berücksichtigt werden.\n",
    "- Die Frequenz ergibt sich aus der Kreisfrequenz und kann im Zeigerdiagramm nur als Momentaufnahme dargestellt werden.\n",
    "\n",
    "```{figure} ../images/Tutorium/chap4/Zeigerdiagramm-phasenverschiebung.pdf\n",
    ":name: fig:TutChap4Zeigerdiagramm2\n",
    "```\n",
    "{cite}`Fricke1982`"
   ]
  },
  {
   "cell_type": "markdown",
   "id": "c1467c59",
   "metadata": {},
   "source": [
    "In der praktischen Sinustechnik wird oft mit dem Effektivwert gerechnet, daher ist es durchaus üblich, dass der Zeiger\n",
    "auch mal Effektivwerte angibt. Dies macht keinen Unterschied auf die Phasenlage. "
   ]
  },
  {
   "cell_type": "markdown",
   "id": "7242a57a",
   "metadata": {},
   "source": [
    "## Übung Teil 1\n",
    "\n",
    "### Übung 4.1 (Beispiel 3.6)\n",
    "\n",
    "Von 2 Spannungen mit den Effektivwerten $U_1 = 30V$ und $U_2 = 50V$ eilt $\\underline{U}_1$ um den Phasenwinkel\n",
    "$\\varphi_{21} = 60°$ gegenüber $\\underline{U}_2$ voraus. Wie groß sind die Effektivwerte der Gesamtspannungen und ihre\n",
    "Phasenwinkel gegenüber der Bezugsspannung $\\underline{U}_2$, wenn die Generatoren G mit den Spannungen $\\underline{U}_1$\n",
    "und $\\underline{U}_2$ nach Bild 3.10a in Summenreihenschaltung oder nach Bild 3.10b in Gegenreihenschaltung liegen? \n",
    "\n",
    "```{figure} ../images/Tutorium/chap4/uebung4.1.pdf\n",
    ":name: fig:TutChap4Aufg4.1\n",
    "```\n",
    "{cite}`Fricke1982`"
   ]
  },
  {
   "cell_type": "markdown",
   "id": "22540595",
   "metadata": {},
   "source": [
    "```{toggle}\n",
    "#### Lösung 4.1\n",
    "\n",
    "Berechnung Summenspannung:\n",
    "\n",
    "$$U_s = \\sqrt{U_1^2 + U_2^2 + 2 U_1 U_2 cos(\\varphi)} = \\sqrt{30^2V^2 + 50^2V^2 + 2\\cdot 30V \\cdot 50V cos(60°)} = 70V$$\n",
    "\n",
    "Berechnung Phasenwinkel:\n",
    "\n",
    "$$\\varphi_s = arctan \\left( \\frac{U_1 sin(\\varphi) + U_2 sin(0°)}{U_1 cos(\\varphi) + U_2 cos(0°)} \\right) = arctan \\left( \\frac{30V sin(60°) + 50V sin(0°)}{30V cos(60°) + 50V cos(0°)} \\right) = 21.79°$$\n",
    "\n",
    "Berechnung Differenzenspannung:\n",
    "\n",
    "$$U_d = \\sqrt{U_1^2 + U_2^2 - 2 U_1 U_2 cos(\\varphi)} = \\sqrt{30^2V^2 + 50^2V^2 - 2\\cdot 30V \\cdot 50V cos(60°)} = 43.59V$$\n",
    "\n",
    "Berechnung Phasenwinkel:\n",
    "\n",
    "$$\n",
    "\\varphi_s = arctan \\left( \\frac{-U_1 sin(\\varphi) + U_2 sin(0°)}{-U_1 cos(\\varphi) + U_2 cos(0°)} \\right) = arctan\n",
    "\\left( \\frac{-30V sin(60°) + 50V sin(0°)}{-30V cos(60°) + 50V cos(0°)} \\right) = -36.59°\n",
    "$$\n",
    "```"
   ]
  },
  {
   "cell_type": "markdown",
   "id": "8dd87212",
   "metadata": {},
   "source": [
    "## Komplexer Drehzeiger\n",
    "\n",
    "Überträgt man die Zeiger aus den Zeigerdiagrammen in die komplexe Ebene, dann kann man den Zeiger vollständig durch eine\n",
    "komplexe Zahl beschreiben. Dadurch wird das geometrische Zeigerzusammensatzen in eine reine Zahlenrechnung überführt. \n",
    "\n",
    "Wendet man die komplexe Rechnung auf Zeigerdiagramme für Ströme, Spannungen, Leistungen, Widerstände und Leitwerte an,\n",
    "wird der Charakter dieser Größen nicht verändert. Sie sind weiterhin von der Zeit abhängig und schwingen. Man wechselt\n",
    "nur aus dem für die Rechnung umständlichen Zeitbereich in den Zeigerbereich über, in die Rechnung durch komplexe Zahlen\n",
    "einfacher ist. \n",
    "\n",
    "```{figure} ../images/Tutorium/chap4/Wirk-und-Blindanteil.pdf\n",
    ":name: fig:TutChap4komplexeEbene\n",
    "```\n",
    "{cite}`Fricke1982`"
   ]
  },
  {
   "cell_type": "markdown",
   "id": "77a6ab1d",
   "metadata": {},
   "source": [
    "Ein Punkt in der Komplexen Ebene (in Polarkoordinaten) wird mit den Nullpunkt-Abstand $\\hat{u}$ (Scheitelwert der\n",
    "Sinusspannung), dem zur Zeit t=0 Winkel $\\varphi_u$ (Nullphasenwinkel) und der Winkelgeschwindigkeit $\\omega$\n",
    "(Kreisfrequenz der Sinusspannung) beschrieben. \n",
    "\n",
    "$$\\underline{u} = \\hat{u} e^{j(\\omega t + \\varphi_u)} = \\hat{u} e^{j\\omega t} e^{j \\varphi_u} = \\hat{u} \\angle(\\omega t + \\varphi_u)  = \\hat{u} \\angle(\\omega t) \\angle \\varphi_u$$\n",
    "\n",
    "Der Zeitwert der Spannung u wird über den Imaginärteil der komplexen Zahl dargestellt.\n",
    "\n",
    "$$Im \\{\\underline{u}\\} = \\hat{u} \\cdot sin(\\omega t + \\varphi_u)$$"
   ]
  },
  {
   "cell_type": "markdown",
   "id": "66dd7fdd",
   "metadata": {},
   "source": [
    "## Komplexer Festzeiger\n",
    "\n",
    "Man benötigt die konstante Drehung der Drehzeiger mit der Winkelgeschwindigkeit $\\omega$ nur für die Bestimmung der\n",
    "Zeitwerte. Man kann also für die meisten Betrachtungen auf den Drehfaktor $e^{j \\omega t} = \\angle (\\omega t)$\n",
    "verzichten. Wenn der Drehfaktor eliminiert wird, dann bleibt nur noch ein Festzeiger übrig: \n",
    "\n",
    "$$\\underline{\\hat{u}} = u e^{j \\varphi_u} = u \\angle \\varphi_u$$\n",
    "\n",
    "Dies entspricht dem Zeiger bei $t=0$. Da sich Scheitelwert und Effektivwert nur durch einen festen Faktor unterscheiden,\n",
    "darf man auch in der Gleichung den Effektivwert benutzen. \n",
    "\n",
    "$$\\underline{U} = U e^{j \\varphi_u} = U \\angle \\varphi_u$$\n",
    "\n",
    "Wenn wir den Strom als Bezugsgröße wählen und in die reelle Achse packen, dann kann die Spannung, wenn sie\n",
    "phasenverschoben ist, in einen Realanteil und einen Imaginäranteil zerlegt werden. \n",
    "\n",
    "```{figure} ../images/Tutorium/chap4/Wirk-und-Blindanteil2.pdf\n",
    ":name: fig:TutChap4WirkundBlind\n",
    "```\n",
    "{cite}`Fricke1982`"
   ]
  },
  {
   "cell_type": "markdown",
   "id": "a570b745",
   "metadata": {},
   "source": [
    "Man bezeichnet den Realanteil als Wirkanteil $U_w$ und den Imaginäranteil als Blindanteil $U_b$. Damit setzt sich\n",
    "$\\underline{u}$ aus beiden Anteilen zusammen:\n",
    "\n",
    "$$\\underline{U} = U \\angle \\varphi = U_w + j U_b$$"
   ]
  },
  {
   "cell_type": "markdown",
   "id": "7b1d660a",
   "metadata": {},
   "source": [
    "## Komplexer Widerstand\n",
    "\n",
    "Die Anwendung des Ohmschen Gesetztes auf komplexe Ströme und Spannungen liefert wieder komplexe Größen. Eine wichtige\n",
    "Größe ist dabei der komplexe Widerstand. \n",
    "\n",
    "$$\n",
    "\\underline{Z} = \\frac{\\underline{u}}{\\underline{i}} = \\frac{\\hat{u} e^{j\\omega t}e^{j\\varphi_u}}{\\hat{i} e^{j\\omega\n",
    "t}e^{j\\varphi_i}} = \\frac{\\hat{u}}{\\hat{i}} \\angle(\\varphi_u - \\varphi_i) = Z \\angle \\varphi = R + j X \n",
    "$$"
   ]
  },
  {
   "cell_type": "markdown",
   "id": "89395067",
   "metadata": {},
   "source": [
    "## Komplexer Leitwert\n",
    "\n",
    "Die Gegengröße dazu ist der komplexe Leitwert.\n",
    "\n",
    "$$\n",
    "\\underline{Y} = \\frac{\\underline{i}}{\\underline{u}} = \\frac{\\hat{i} e^{j\\omega t}e^{j\\varphi_i}}{\\hat{u} e^{j\\omega\n",
    "t}e^{j\\varphi_u}} = \\frac{\\hat{i}}{\\hat{u}} \\angle(\\varphi_i - \\varphi_u) = \\frac{1}{\\underline{Z}} = \\frac{1}{Z \\angle\n",
    "\\varphi} = \\frac{1}{Z} \\angle(-\\varphi) = G + j B\n",
    "$$ \n",
    "\n",
    "Die Komponenten werden als Impedanz Z, Wirkwiderstand R, Blindwiderstand X, Admittanz Y, Wirkleitwert G und Blindleitwert B bezeichent."
   ]
  },
  {
   "cell_type": "markdown",
   "id": "0e92ba99",
   "metadata": {},
   "source": [
    "## Übungen Teil 2"
   ]
  },
  {
   "cell_type": "markdown",
   "id": "e61685d4",
   "metadata": {},
   "source": [
    "### Übung 4.2\n",
    "\n",
    "Es soll für eine Netzspannung mit $U = 220V$ mit der Frequenz $f = 50Hz$ der komplexe Zeitwert für den Nullphasenwinkel\n",
    "$\\varphi_u = -60°$ angegeben werden und den Zeitwert $u$ für die Zeit $t = 12 ms$ bestimmen. "
   ]
  },
  {
   "cell_type": "markdown",
   "id": "dce03912",
   "metadata": {},
   "source": [
    "```{toggle}\n",
    "#### Lösung 4.2\n",
    "\n",
    "Scheitelwert bestimmen:\n",
    "\n",
    "$$\\hat{u} = U \\cdot \\sqrt{2} = 220V \\cdot \\sqrt{2} = 311.1V$$\n",
    "\n",
    "Kreisfrequenz bestimmen:\n",
    "\n",
    "$$\\omega = 2 \\cdot \\pi \\cdot f = 314.2 s^{-1}$$\n",
    "\n",
    "Komplexer Zeitwert:\n",
    "\n",
    "$$\\underline{u} = \\hat{u} e^{j(\\omega t + \\varphi_u)} = 311.1 V \\cdot e^{j(314.2 s^{-1} t - 60°)} = 311.1 V \\angle(314.2 s^{-1} t - 60°)$$\n",
    "\n",
    "Zeitwert:\n",
    "\n",
    "$$u = Im\\{\\underline{u}\\} = \\hat{u} \\cdot sin(\\omega t + \\varphi_u) = 311.1V \\cdot sin(314.2 s^{-1} \\cdot 12 ms - 60°) = 126.5V$$\n",
    "```"
   ]
  },
  {
   "cell_type": "markdown",
   "id": "529b04ad",
   "metadata": {},
   "source": [
    "### Übung 4.3\n",
    "\n",
    "Man bilde in der komplexen Zahlenebene mit den beiden komplexen Strömen $\\underline{I}_1 = (2 + j5)A$ und\n",
    "$\\underline{I}_2 = 6A\\angle -30°$ den Summenstrom $\\underline{I}_s = \\underline{I}_1 + \\underline{I}_2$ und den\n",
    "Differenzenstrom $\\underline{I}_d = \\underline{I}_2 - \\underline{I}_1$. (mit Zeichnung)"
   ]
  },
  {
   "cell_type": "markdown",
   "id": "4098721b",
   "metadata": {},
   "source": [
    "```{toggle}\n",
    "#### Lösung 4.3\n",
    "\n",
    "```{figure} ../images/Tutorium/chap4/Loesung4.3.pdf\n",
    ":name: fig:TutChap4Loesung4.3\n",
    "```\n",
    "{cite}`Fricke1982`"
   ]
  },
  {
   "cell_type": "markdown",
   "id": "d43dbfde",
   "metadata": {},
   "source": [
    "Umformung der Exponentialform:\n",
    "\n",
    "$$\\underline{I}_2 = (5.196 - j3)A$$\n",
    "\n",
    "Summenbildung:\n",
    "\n",
    "$$\\underline{I}_s = (2 + 5.196)A + j(5 - 3)A = (7.196 + j2)A$$\n",
    "\n",
    "Betrag:\n",
    "\n",
    "$$I_s = \\sqrt{7.196^2 + 2^2}A = 7.469A$$\n",
    "\n",
    "Phase:\n",
    "\n",
    "$$\\varphi = arctan \\left( \\frac{2A}{7.196A} \\right) = 15.53°$$\n",
    "\n",
    "Differenzenbildung:\n",
    "\n",
    "$$\\underline{I}_d = (-2 + 5.196)A + j(-5 - 3)A = (3.196 - j8)A$$\n",
    "\n",
    "Betrag:\n",
    "\n",
    "$$I_s = \\sqrt{3.196^2 + 8^2}A = 8.615A$$\n",
    "\n",
    "Phase:\n",
    "\n",
    "$$\\varphi = arctan \\left( \\frac{2A}{7.196A} \\right) = -68.22°$$\n",
    "```\n",
    "\n",
    "\n",
    "### Übung 4.4\n",
    "\n",
    "Bestimme den Scheitelwert, Effektivwert, Frequenz, Periode, Nullphasenwinkel und die Phasenverschiebung ($I_2$ als\n",
    "Bezugsgröße) beider Ströme. Stelle die Gleichung für beide Ströme im Zeitbereich und in der komplexen Ebene auf. \n",
    "\n",
    "```python tags=[\"hide-input\"]\n",
    "import numpy as np\n",
    "import matplotlib.pyplot as plt\n",
    "\n",
    "f=1\n",
    "i1_s = 2\n",
    "i2_s = 1.5\n",
    "phi1 = -np.pi/3\n",
    "phi2 = np.pi/4\n",
    "t = np.arange(-2,2,0.001)\n",
    "\n",
    "sin1 = i1_s * np.sin(2*np.pi*f*t + phi1)\n",
    "sin2 = i2_s * np.sin(2*np.pi*f*t + phi2)\n",
    "\n",
    "plt.plot(t,sin1,label='Strom 1')\n",
    "plt.plot(t,sin2,label='Strom 2')\n",
    "plt.xlabel('Zeit in ms')\n",
    "plt.ylabel('Strom in A')\n",
    "plt.xlim(-0.5,2)\n",
    "plt.grid()\n",
    "plt.legend()\n",
    "```\n",
    "\n",
    "```{toggle}\n",
    "#### Lösung 4.4\n",
    "\n",
    "Scheitelwert:\n",
    "\n",
    "$$\\hat{i}_1 = 2A$$\n",
    "\n",
    "$$\\hat{i}_2 = 1.5A$$\n",
    "\n",
    "Effektivwert:\n",
    "\n",
    "$$I_1 = 1.414A$$\n",
    "\n",
    "$$I_2 = 1.061A$$\n",
    "\n",
    "Frequenz:\n",
    "\n",
    "$$f = 1000Hz$$\n",
    "\n",
    "Periode:\n",
    "\n",
    "$$T = 1ms$$\n",
    "\n",
    "Nullphasenwinkel:\n",
    "\n",
    "$$\\varphi_{i1} = -\\frac{\\pi}{3}$$\n",
    "\n",
    "$$\\varphi_{i2} = \\frac{\\pi}{4}$$\n",
    "\n",
    "Phasenverschiebung:\n",
    "\n",
    "$$\\varphi = -\\frac{7\\pi}{12}$$\n",
    "\n",
    "Zeitbereich:\n",
    "\n",
    "$$i_1 = 2A \\cdot sin(2000\\pi t - \\pi/3)$$\n",
    "\n",
    "$$i_2 = 1.5A \\cdot sin(2000\\pi t + \\pi/4)$$\n",
    "\n",
    "Komplexe Ebene:\n",
    "\n",
    "$$ \\underline{i}_1 = 2A \\cdot e^{j(2000\\pi t - \\pi/3} = 2A \\angle(-\\pi/3) $$\n",
    "$$ \\underline{i}_1 = 1.5A \\cdot e^{j(2000\\pi t + \\pi/4} = 1.5A \\angle(\\pi/4) $$\n",
    "```"
   ]
  }
 ],
 "metadata": {
  "kernelspec": {
   "display_name": "Python 3 (ipykernel)",
   "language": "python",
   "name": "python3"
  }
 },
 "nbformat": 4,
 "nbformat_minor": 5
}