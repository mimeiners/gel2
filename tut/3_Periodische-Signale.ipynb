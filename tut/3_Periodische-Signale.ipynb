{
 "cells": [
  {
   "cell_type": "markdown",
   "id": "331ce8a1",
   "metadata": {},
   "source": [
    "# 3. Periodische Signale\n",
    "\n",
    "- Stromarten\n",
    "- Kennwerte von Wechselgrößen\n",
    "\n",
    "## Stromarten\n",
    "\n",
    "Neben dem Gleichstrom, der ausführlich in GEL1 behandelt wurde, gibt es weitere Stromarten.\n",
    "\n",
    "Der Wechselstrom kennzeichnet sich durch sein beliebig periodisches Verhalten. Die Richtung und Größe variiert dabei mit\n",
    "der Zeit t. Eine Sonderform, die große Bedeutung hat ist der Sinusstrom. \n",
    "\n",
    "Weiterhin gibt es den Mischstrom, der aus einer Überlagerung von Gleichstrom und Wechselstrom entsteht und zum Beispiel\n",
    "durch das Gleichrichten verursacht wird.\n",
    "\n",
    "Des Weiteren gibt es noch die sogenannten modulierten Ströme. Dort schwanken entweder die Amplitude A, die Frequenz f\n",
    "oder der Nullphasenwinkel $\\varphi$ mit der Zeit t. Solche Signale werden hier nicht weiter behandelt. Diese kommen in\n",
    "dem Modul _Grundlagen der Informationstechnik_ vor, welches im 4. Semester in der Vertiefungsrichtung\n",
    "Informationstechnik liegt."
   ]
  },
  {
   "cell_type": "code",
   "execution_count": null,
   "id": "d13a114d",
   "metadata": {
    "tags": [
     "hide-input"
    ]
   },
   "outputs": [],
   "source": [
    "import matplotlib.pyplot as plt\n",
    "\n",
    "plt.figure()\n",
    "plt.axhline(y = 0.75)\n",
    "plt.xlabel('Zeit in s')\n",
    "plt.ylabel('Spannung in V')\n",
    "plt.title('Gleichstrom')\n",
    "plt.grid()\n",
    "plt.show()"
   ]
  },
  {
   "cell_type": "code",
   "execution_count": null,
   "id": "f9929c0e",
   "metadata": {
    "tags": [
     "hide-input"
    ]
   },
   "outputs": [],
   "source": [
    "import numpy as np\n",
    "import matplotlib.pyplot as plt\n",
    "\n",
    "T = 1\n",
    "fs = 1000\n",
    "time = np.linspace (0, T, T*fs)\n",
    "\n",
    "f = 5\n",
    "sinus1 = np.sin(2 * np.pi * f * time)\n",
    "sinus2 = np.sin(2 * np.pi * 0.5*f * time)\n",
    "\n",
    "plt.figure()\n",
    "plt.plot(time,sinus1+sinus2)\n",
    "plt.xlabel('Zeit in s')\n",
    "plt.ylabel('Spannung in V')\n",
    "plt.title('Wechselstrom')\n",
    "plt.grid()\n",
    "plt.show()"
   ]
  },
  {
   "cell_type": "code",
   "execution_count": null,
   "id": "906c6565",
   "metadata": {
    "tags": [
     "hide-input"
    ]
   },
   "outputs": [],
   "source": [
    "import numpy as np\n",
    "import matplotlib.pyplot as plt\n",
    "\n",
    "T = 1\n",
    "fs = 1000\n",
    "time = np.linspace (0, T, T*fs)\n",
    "\n",
    "f = 5\n",
    "sinus = np.sin(2 * np.pi * f * time)\n",
    "\n",
    "plt.figure()\n",
    "plt.plot(time,sinus)\n",
    "plt.xlabel('Zeit in s')\n",
    "plt.ylabel('Spannung in V')\n",
    "plt.title('Sinusstrom')\n",
    "plt.grid()\n",
    "plt.show()"
   ]
  },
  {
   "cell_type": "code",
   "execution_count": null,
   "id": "5393e587",
   "metadata": {
    "tags": [
     "hide-input"
    ]
   },
   "outputs": [],
   "source": [
    "import numpy as np\n",
    "import matplotlib.pyplot as plt\n",
    "\n",
    "T = 1\n",
    "fs = 1000\n",
    "time = np.linspace (0, T, T*fs)\n",
    "\n",
    "f = 5\n",
    "sinus = np.sin(2 * np.pi * f * time)\n",
    "\n",
    "plt.figure()\n",
    "plt.plot(time,sinus+0.5)\n",
    "plt.xlabel('Zeit in s')\n",
    "plt.ylabel('Spannung in V')\n",
    "plt.title('Mischstrom')\n",
    "plt.grid()\n",
    "plt.show()"
   ]
  },
  {
   "cell_type": "code",
   "execution_count": null,
   "id": "79c0e1e2",
   "metadata": {
    "tags": [
     "hide-input"
    ]
   },
   "outputs": [],
   "source": [
    "import numpy as np\n",
    "import matplotlib.pyplot as plt\n",
    "\n",
    "T = 1\n",
    "fs = 1000\n",
    "time = np.linspace (0, T, T*fs)\n",
    "\n",
    "f = 20\n",
    "sinus1 = np.sin(2 * np.pi * f * time)\n",
    "sinus2 = 0.2 * np.sin(2 * np.pi * 0.1*f * time)\n",
    "modulated = (1 + 0.5 * np.sin(2 * np.pi * 0.1*f * time)) * np.sin(2 * np.pi * f * time)\n",
    "\n",
    "plt.figure()\n",
    "plt.plot(time,modulated)\n",
    "plt.xlabel('Zeit in s')\n",
    "plt.ylabel('Spannung in V')\n",
    "plt.title('amplituden-moduliertes Signal')\n",
    "plt.grid()\n",
    "plt.show()"
   ]
  },
  {
   "cell_type": "code",
   "execution_count": null,
   "id": "a54a695a",
   "metadata": {
    "tags": [
     "hide-input"
    ]
   },
   "outputs": [],
   "source": [
    "import numpy as np\n",
    "import matplotlib.pyplot as plt\n",
    "\n",
    "fs = 2000\n",
    "fc = 100\n",
    "fm = 15\n",
    "beta = 3\n",
    "t = np.arange(0,0.2,1/fs)\n",
    "\n",
    "frm = np.cos(2*np.pi*fc*t + beta*np.sin(2*np.pi*fm*t))\n",
    "m = np.cos(2*np.pi*fm*t)\n",
    "\n",
    "plt.figure()\n",
    "plt.plot(t,frm)\n",
    "plt.xlabel('Zeit in s')\n",
    "plt.ylabel('Spannung in V')\n",
    "plt.title('frequenz-moduliertes Signal')\n",
    "plt.grid()\n",
    "plt.show()"
   ]
  },
  {
   "cell_type": "markdown",
   "id": "bd876215",
   "metadata": {},
   "source": [
    "## Kennwerte von Wechselgrößen\n",
    "\n",
    "Allgemein kann man eine sich zeitlich ändernde sinusförmige Wechselgröße mit der folgenden Funktion beschreiben.\n",
    "\n",
    "$$x = \\hat{x} sin(\\omega t + \\varphi)$$\n",
    "\n",
    "Dabei wird der Zeitwert x als auch der Scheitelwert $\\hat{x}$ mit einem kleinen Formelbuchstaben bezeichnet.\n",
    "\n",
    "### Periodendauer und Frequenz\n",
    "\n",
    "Da sich eine sinusförmige Wechselgröße wiederholt sich nach Ablauf des Winkels $2\\pi = 360^° = \\omega T$. Damit kann man die Periodendauer T über die Kreisfrequenz $\\omega$ darstellen.\n",
    "\n",
    "$$T = \\frac{2 \\pi}{\\omega}$$\n",
    "\n",
    "Die Frequenz f gibt die Anzahl der Perioden pro Sekunde an und wird in Hz = 1/s gemessen. Die Frequenz ist der Kehrwert der Periodendauer.\n",
    "\n",
    "$$f = \\frac{1}{T}$$\n",
    "\n",
    "Die Kreisfreqeunz ist die Frequenz mit dem Faktor $2\\pi$ erweitert. Sie wird in 1/s und **nicht** in Hz gemessen!\n",
    "\n",
    "$$\\omega = 2 \\pi f = \\frac{2\\pi}{T}$$\n",
    "\n",
    "### Phasenlage\n",
    "\n",
    "Sinusgrößen können zu verschiedenen Zeitpunkten ihre Scheitelwerte und Nulldurchgänge erreichen. Man sagt, dass diese Größen unterschiedliche Phasenlagen haben; sie sind gegeneinander phasenverschoben.\n",
    "\n",
    "```{figure} ../images/Tutorium/chap3/Phasenlage.pdf\n",
    ":name: fig:TutChapPhasenlage\n",
    "```\n",
    "Entnommen aus {cite}`Fricke1982`"
   ]
  },
  {
   "cell_type": "markdown",
   "id": "92633918",
   "metadata": {},
   "source": [
    "#### Nullphasenwinkel\n",
    "\n",
    "Allgemein gesprochen beginnt eine Sinusfunktion bei t=0 und geht um den Nullphasenwinkel $\\varphi_x$ früher als die normale Sinusfunktion $sin(\\omega t)$ durch Null. Das Vorzeichen des Winkel ist sehr wichtig!\n",
    "\n",
    "Beim positiven Nulldurchgang der Sinusgröße wird ein Pfeil zum Nullpunkt gezeichnet. Ist der Pfeil in Zählrichtung der Zeitachse ist der Nullphasenwinkel positiv, ist der Pfeil entgegen der Zählrichtung der Zeitachse, dann ist er negativ (siehe Bild unter Phasenlage).\n",
    "\n",
    "#### Phasenwinkel\n",
    "\n",
    "Zusätzlich zum Nullphasewinkel gibt es den Phasenwinkel. Dieser gibt die Phasenverschiebung zwischen zwei Sinussignalen an. Es ist festgelegt, dass der Strom in solchen Fällen als Bezugsgröße genommen wird.\n",
    "\n",
    "$$\\varphi = \\varphi_U - \\varphi_I$$\n",
    "\n",
    "Beispiel:\n",
    "\n",
    "$$\\varphi_I = -\\frac{\\pi}{3} = -60°$$\n",
    "\n",
    "$$\\varphi_U = \\frac{\\pi}{6} = 30°$$\n",
    "\n",
    "$$\\varphi = \\varphi_U - \\varphi_I = \\left( \\frac{\\pi}{6} \\right) - \\left( -\\frac{\\pi}{3} \\right) = 30° - (-60°) = \\frac{\\pi}{2} = 90°$$\n",
    "\n",
    "Die Spannung eilt dem Strom um $\\varphi = 90°$ vor.\n",
    "\n",
    "### Mittelwert\n",
    "\n",
    "Der Mittelwert ist der zeitlich durchschnittliche Wert einer Funktion.\n",
    "\n",
    "$$\\overline{x(t)} = \\frac{1}{T} \\int\\limits_{t_0}^{t_o + T} x(t) dt$$\n",
    "\n",
    "Bei reinem Wechselstrom ist der Mittelwert 0.\n",
    "\n",
    "### Gleichrichtwert\n",
    "\n",
    "Der Gleichrichtwert ist der Mittelwert einer gleichgericheten Größe.\n",
    "\n",
    "$$\\overline{|x(t)|} = \\frac{1}{T} \\int\\limits_{t_0}^{t_0 + T} |x(t)| dt$$\n",
    "\n",
    "Verhältnis von Gleichricht- zu Scheitelwert (bei Sinusgrößen): $\\frac{\\overline{|i|}}{\\hat{i}} = 0.6366$\n",
    "\n",
    "### Effektivwert\n",
    "\n",
    "Der Effektivwert einer periodischen Spannung (oder eines periodischen Stroms) entspricht dem Wert einer Gleichspannung (eines Gleichstroms), der in einer ohmschen Last dieselbe Leistung umsetzt.\n",
    "\n",
    "$$X = X_{eff} = \\sqrt{\\frac{1}{T} \\int\\limits_{t_0}^{t_0 + T} x^2(t) dt}$$\n",
    "\n",
    "**Scheitelfaktor**\n",
    "\n",
    "Der Scheitelfaktor ist das Verhältnis von Scheitelwert $\\hat{i}$ bzw. $\\hat{u}$ zum Effektivwert I bzw. U.\n",
    "\n",
    "$$\\xi = \\frac{\\hat{x}}{X_{eff}}$$\n",
    "\n",
    "Der Scheitelfaktor für Sinusgrößen beträgt $\\xi = \\sqrt{2} = 1.414$.\n",
    "\n",
    "Der Scheitelfaktor für Dreieckspannung beträgt $\\xi = \\sqrt{3}$.\n",
    "\n",
    "Der Scheitelfaktor für Rechtecksignale beträgt $\\xi = 1$.\n",
    "\n",
    "**Formfaktor**\n",
    "\n",
    "Der Formfaktor stellt das Verhältnis von Effektivwert I bzw. U zu Gleichrichtwert $\\overline{|i|}$ bzw. $\\overline{|u|}$ dar.\n",
    "\n",
    "$$F = \\frac{X_{eff}}{\\overline{|x|}}$$\n",
    "\n",
    "Der Formfaktor für Sinusgrößen beträgt $F = \\frac{\\pi}{2\\sqrt{2}} \\approx 1.11$.\n",
    "\n",
    "Der Formfaktor für Dreiecksignale beträgt $F = \\frac{1.11}{2}$.\n",
    "\n",
    "Der Formfaktor für Rechtecksignale beträgt $F = 1.11$.\n",
    "\n",
    "### Effektivwert mit Gleichstromanteil\n",
    "\n",
    "```{figure} ../images/Tutorium/chap3/Mischspannung.pdf\n",
    ":name: fig:TutChapMischspannung\n",
    "```\n",
    "Entn. aus {cite}`schenke2023`"
   ]
  },
  {
   "cell_type": "markdown",
   "id": "9ddb2361",
   "metadata": {},
   "source": [
    "$$X_{eff} = \\sqrt{X_o^2 + X_{eff\\sim}^2}$$"
   ]
  },
  {
   "cell_type": "markdown",
   "id": "d57f1830",
   "metadata": {},
   "source": [
    "## Übungen\n",
    "\n",
    "### Aufgabe 3.1 Gleichrichtwert\n",
    "\n",
    "Ein Sinusstrom mit dem Scheitelwert $\\hat{i} = 10 A$ fließt durch die Gleichrichterschaltung-Brückenschaltung von Bild 3.4.\n",
    "\n",
    "```{figure} ../images/Tutorium/chap3/Brueckengleichrichter.pdf\n",
    ":name: fig:TutChapAufg3.1\n",
    "```\n",
    "Entn. aus {cite}`Fricke1982`"
   ]
  },
  {
   "cell_type": "markdown",
   "id": "cd1c47c6",
   "metadata": {},
   "source": [
    "Welche Elektrizitätsmenge Q wird während der Zeit t = 2 h befördert?  \n",
    "Tipp: $Q = i \\cdot t$"
   ]
  },
  {
   "cell_type": "markdown",
   "id": "b0c98256",
   "metadata": {},
   "source": [
    " ```{toggle}\n",
    "#### Lösung 3.1\n",
    "\n",
    "$$\\overline{|i|} = 0.6366 \\hat{i} = 0.6366 \\cdot 10 A = 6.366 A$$\n",
    "\n",
    "$$Q = \\overline{|i|} t = 6.366 A \\cdot 2 h = 12.73 Ah$$\n",
    "```\n",
    "\n",
    "\n",
    "\n",
    "### Aufgabe 3.2 Zeitfunktion berechnen\n",
    "\n",
    "Die übliche Netzspannung 1982 betrug $U = 220 V$ bei der Netzfrequenz $f = 50 Hz$. Es sind der Gleichrichtwert $\\overline{|u|}$ und die Zeitfunktion u dieser Spannung zu bestimmen.\n",
    "\n",
    "\n",
    "```{toggle}\n",
    "#### Lösung 3.2\n",
    "\n",
    "Netzspannung ist Sinusförmig --> Formfaktor F = 1.111  \n",
    "Gleichrichtwert:\n",
    "$$\\overline{|u|} = \\frac{U}{F} = \\frac{220 V}{1.111} = 198 V$$\n",
    "\n",
    "Zeitfunktion:\n",
    "Scheitelwert:\n",
    "$$\\hat{u} = \\sqrt{2} U = \\sqrt{2} \\cdot 220 V = 311.1 V$$\n",
    "Kreisfrequenz:\n",
    "$$\\omega = 2 \\pi f = 2 \\pi \\cdot 50 Hz = 314.2 \\frac{1}{s}$$\n",
    "\n",
    "$$u = \\hat{u} sin(\\omega t) = 311.1 V \\cdot sin(314.2 1/s)$$\n",
    "```"
   ]
  },
  {
   "cell_type": "markdown",
   "id": "8489ae39",
   "metadata": {},
   "source": [
    "### Aufgabe 3.3 Mittelwerte aus Zeitverlauf bestimmen\n",
    "\n",
    "```{figure} ../images/Tutorium/chap3/Aufgabe2.3.pdf\n",
    ":name: fig:TutChap3Aufg3.3\n",
    "```\n",
    "Entn. aus {cite}`albach2020a`"
   ]
  },
  {
   "cell_type": "markdown",
   "id": "2964e73c",
   "metadata": {},
   "source": [
    "```{toggle}\n",
    "#### Lösung 3.3\n",
    "\n",
    "a)\n",
    "Mittelwert:\n",
    "\n",
    "$$\\overline{u} = \\frac{1}{T} \\int\\limits_{0}^{T} u(t)dt = \\frac{1}{T} \\left[ \\hat{u} \\frac{3T}{4} - \\hat{u} \\frac{T}{4} \\right] = \\frac{\\hat{u}}{2} = 5 V$$\n",
    "\n",
    "Gleichrichtwert:\n",
    "\n",
    "$$\\overline{|u|} = \\frac{1}{T} \\int\\limits_{0}^{T} |u(t)|dt = \\frac{1}{T} \\left[ \\hat{u} \\frac{3T}{4} + |-\\hat{u}| \\frac{T}{4} \\right] = \\hat{u} = 10 V$$\n",
    "\n",
    "Effektivwert:\n",
    "\n",
    "$$U_{eff} = \\sqrt{\\frac{1}{T} \\int\\limits_{0}^{T} u^2(t)dt} = \\sqrt{\\frac{1}{T} \\left[ \\hat{u}^2 \\frac{3T}{4} + (-\\hat{u}^2) \\frac{T}{4} \\right]} = \\hat{u} = 10 V$$\n",
    "\n",
    "b)\n",
    "Mittelwert:\n",
    "\n",
    "$$\\overline{u} = \\frac{1}{T} \\int\\limits_{0}^{T} \\hat{u} \\frac{t}{T} dt = \\frac{\\hat{u}}{T^2} \\frac{t^2}{2} \\Big\\vert_0^T = \\frac{\\hat{u}}{2} = 5 V$$\n",
    "\n",
    "Gleichrichtwert:\n",
    "\n",
    "$$\\overline{|u|} = |u| = 5 V$$\n",
    "\n",
    "Effektivwert:\n",
    "\n",
    "$$U_{eff} = \\sqrt{\\frac{1}{T} \\int\\limits_{0}^{T} \\left(\\hat{u} \\frac{t}{T} \\right)^2 dt} = \\sqrt{\\frac{\\hat{u}^2}{T^3} \\frac{t^3}{3} \\Big\\vert_0^T} = \\sqrt{\\frac{\\hat{u}^2}{3}} = \\frac{\\hat{u}}{\\sqrt{3}} = 5.77 V$$\n",
    "\n",
    "c)  \n",
    "Mittelwert:\n",
    "\n",
    "$$\\overline{u} = \\frac{\\hat{u}}{4} = 2.5 V$$\n",
    "\n",
    "Gleichrichtwert:\n",
    "\n",
    "$$\\overline{|u|} = \\overline{u} = 2.5 V$$\n",
    "\n",
    "Effektivwert:\n",
    "\n",
    "$$U_{eff} = \\sqrt{\\frac{1}{T} \\int\\limits_{0}^{T/2} \\left(2\\hat{u} \\frac{t}{T} \\right)^2 dt} = \\sqrt{\\frac{4\\hat{u}^2}{T^3} \\frac{t^3}{3} \\Big\\vert_0^{T/2}} = \\sqrt{\\frac{\\hat{u}^2}{6}} = \\frac{\\hat{u}}{\\sqrt{6}} = 4.08 V$$\n",
    "\n",
    "d)  \n",
    "Mittelwert:\n",
    "\n",
    "$$\\overline{u} = 0 V$$\n",
    "\n",
    "Gleichrichtwert:\n",
    "\n",
    "$$\\overline{|u|} = \\frac{1}{T} \\left[ \\hat{u} \\frac{T}{4} + \\hat{u} \\frac{T}{4} \\right] = \\frac{\\hat{u}}{2} = 5 V$$\n",
    "\n",
    "Effektivwert:\n",
    "\n",
    "$$U_{eff} = \\sqrt{\\frac{1}{T} \\int\\limits_{0}^{T/2} \\left( 2\\hat{u} \\frac{t}{T} \\right)^2 dt + \\frac{1}{T} \\int\\limits_{T/2}^{T} \\left( 2\\hat{u} \\frac{t - T}{T} \\right)^2 dt} = \\sqrt{\\frac{\\hat{u}^2}{6} + \\frac{\\hat{u}^2}{6}} = \\frac{\\hat{u}}{\\sqrt{3}} = 5.77 V$$\n",
    "```"
   ]
  },
  {
   "cell_type": "markdown",
   "id": "ec4584f1",
   "metadata": {},
   "source": [
    "### Aufgabe 3.4\n",
    "\n",
    "Ein Wechselstrom besteht nach der Abbildung aus \"angeschnittenen\" Sinushalbschwingungen. In den Bereichen $0 < \\omega t < \\alpha$ und $\\pi < \\omega t < (\\pi + \\alpha)$ fließt kein Strom (i = 0), wobei $\\alpha = \\pi/4 = 45°$ sei. In der übrigen Zeit (innerhalb des Bereiches $0 < \\omega t < 2\\pi)$ wird der Stromverlauf durch die Gleichung $i = \\hat{i} sin(\\omega t)$ wiedergegeben. Hierbei betrage der Scheitelwert des Stromes $\\hat{i} = 10 A$.\n",
    "\n",
    "Wie groß ist der Effektivwert I des Stromes?"
   ]
  },
  {
   "cell_type": "code",
   "execution_count": null,
   "id": "033d6dca",
   "metadata": {
    "tags": [
     "hide-input"
    ]
   },
   "outputs": [],
   "source": [
    "import numpy as np\n",
    "import matplotlib.pyplot as plt\n",
    "\n",
    "omega_t = np.arange(0,2*np.pi,np.pi/(2**6))\n",
    "i = 10 * np.sin(omega_t)\n",
    "\n",
    "alpha = np.pi/4\n",
    "\n",
    "for a in range(len(i)):\n",
    "    if omega_t[a] < alpha or (omega_t[a] > np.pi and omega_t[a] < np.pi+alpha):\n",
    "        i[a] = 0\n",
    "        \n",
    "list_ticks = [None]*128\n",
    "list_ticks[0] = '0'\n",
    "list_ticks[63] = '$\\pi$'\n",
    "list_ticks[127] = '$2\\pi$'\n",
    "        \n",
    "plt.figure()\n",
    "plt.plot(omega_t, i)\n",
    "plt.xlabel('$\\omega t$')\n",
    "plt.ylabel('i')\n",
    "#plt.xticks([0,63,127],['0','$\\pi$','2$\\pi$'])\n",
    "plt.xticks(omega_t,list_ticks)\n",
    "plt.grid(True)"
   ]
  },
  {
   "cell_type": "markdown",
   "id": "33ac289d",
   "metadata": {},
   "source": [
    "```{toggle}\n",
    "#### Lösung 3.4\n",
    "\n",
    "$$I = \\sqrt{\\frac{1}{2\\pi} \\int\\limits_{0}^{2\\pi} i^2 d\\omega t}$$\n",
    "\n",
    "$$\\int\\limits_{0}^{2\\pi} i^2 d\\omega t = 2\\int\\limits_{0}^{\\pi} i^2 d\\omega t = 2\\int\\limits_{0}^{\\pi} \\hat{i}^2 \\cdot sin^2(\\omega t) d\\omega t$$\n",
    "\n",
    "$$2\\int\\limits_{0}^{\\pi} \\hat{i}^2 \\cdot sin^2(\\omega t) d\\omega t = 2\\hat{i}^2 \\left(\\frac{1}{2} \\omega t - \\frac{1}{4} sin(2\\omega t) \\right) \\Big\\vert_\\alpha^\\pi = \\hat{i}^2 \\left( \\pi - \\alpha + \\frac{1}{2} sin(2\\alpha) \\right)$$\n",
    "\n",
    "$$I = \\sqrt{\\frac{1}{2\\pi} \\cdot \\int\\limits_{0}^{2\\pi} i^2 d\\omega t} = \\sqrt{\\frac{1}{2\\pi} \\hat{i}^2 \\left( \\pi - \\alpha + \\frac{1}{2} sin(2\\alpha) \\right)} = \\sqrt{\\frac{1}{2\\pi} \\cdot (10 A)^2 \\cdot \\left( \\pi - \\frac{\\pi}{4} + \\frac{1}{2} \\cdot sin(2 \\cdot 45°) \\right)} = 6.74 A$$\n",
    "```"
   ]
  },
  {
   "cell_type": "markdown",
   "id": "957464f4",
   "metadata": {},
   "source": [
    "### Aufgabe 3.5\n",
    "\n",
    "An einem ohmschen Widerstand $R = 30 \\Omega$ liegt eine mittelwertfreie Dreieckspannung mit der Amplitude $\\hat{u} = 9 V$ und der Frequenz $f = 100 Hz$ an.\n",
    "\n",
    "Welche Wirkleistung P wird im zeitlichen Mittel im Widerstand R umgesetzt?"
   ]
  },
  {
   "cell_type": "markdown",
   "id": "bd4270c4",
   "metadata": {},
   "source": [
    "```{toggle}\n",
    "#### Lösung 3.5\n",
    "\n",
    "Dreieckspannung --> Scheitelfaktor $\\xi = \\sqrt{3}$\n",
    "\n",
    "$$U = \\frac{\\hat{u}}{\\sqrt{3}} = \\frac{9 V}{\\sqrt{3}} = 5.196 V$$\n",
    "\n",
    "$$P = \\frac{U^2}{R} = \\frac{5.196 V}{30 \\Omega} = 0.9 W$$\n",
    "```"
   ]
  },
  {
   "cell_type": "markdown",
   "id": "ed5266ba",
   "metadata": {},
   "source": [
    "### Aufgabe 3.6\n",
    "\n",
    "An einem ohmschen Widerstand R liegt eine Zägezahnspannung, die von einer Gleichspannung überlagert ist, an:\n",
    "\n",
    "```{figure} ../images/Tutorium/chap3/Aufgabe2.6.pdf\n",
    ":name: fig:TutChap3Aufg3.6\n",
    "```\n",
    "Entn. aus {cite}`schenke2023`"
   ]
  },
  {
   "cell_type": "markdown",
   "id": "e08553e8",
   "metadata": {},
   "source": [
    "a) Bestimmen Sie den Mittelwert $\\overline{u(t)}$ des periodischen Spannungsverlaufes u(t).\n",
    "\n",
    "b) Berechnen Sie den Effektivwert U des periodischen Spannungsverlaufes u(t).\n",
    "\n",
    "c) Welche Wirkleistung P wird im zeitlichen Mittel im Widerstand R umgesetzt? (23.4)"
   ]
  },
  {
   "cell_type": "markdown",
   "id": "b6ec92cb",
   "metadata": {},
   "source": [
    "```{toggle}\n",
    "#### Lösung 3.6\n",
    "\n",
    "a)\n",
    "\n",
    "$$\\overline{u(t)} = \\frac{U_1 + U_2}{2}$$\n",
    "\n",
    "b)\n",
    "\n",
    "$$U = \\sqrt{\\left( \\frac{U_2 - U_1}{2 \\cdot \\sqrt{3}} \\right)^2 + \\left( \\frac{U_1 + U_2}{2} \\right)^2}$$\n",
    "\n",
    "c)\n",
    "\n",
    "$$P = \\frac{U^2}{R}$$\n",
    "```"
   ]
  },
  {
   "cell_type": "markdown",
   "id": "452a1998",
   "metadata": {},
   "source": [
    "### Aufgabe 3.7\n",
    "\n",
    "Durch den ohmschen Widerstand R fließt ein Sinusstrom, der mit einem Gleichstrom überlagert ist:\n",
    "\n",
    "```{figure} ../images/Tutorium/chap3/Aufgabe2.7.pdf\n",
    ":name: fig:TutChap3Aufg3.7\n",
    "```\n",
    "Entn. aus {cite}`schenke2023`"
   ]
  },
  {
   "cell_type": "markdown",
   "id": "a245a279",
   "metadata": {},
   "source": [
    "a) Bestimmen Sie den Mittelwert $\\overline{i(t)}$ des periodischen Stromverlaufes i(t).\n",
    "\n",
    "b) Berechnen Sie den Effektivwert I des periodischen Stromverlaufes i(t).\n",
    "\n",
    "c) Welche Wirkleistung P wird im zeitlichen Mittel im Widerstand R umgesetzt? (23.6)"
   ]
  },
  {
   "cell_type": "markdown",
   "id": "62f9519a",
   "metadata": {},
   "source": [
    "```{toggle}\n",
    "#### Lösung 3.7\n",
    "\n",
    "a)\n",
    "\n",
    "$$\\overline{i(t)} = I_0$$\n",
    "\n",
    "b)\n",
    "\n",
    "$$I = \\sqrt{I_0^2 + \\left( \\frac{I_0}{\\sqrt{2}} \\right)^2}$$\n",
    "\n",
    "c)\n",
    "\n",
    "$$P = I^2 \\cdot R$$\n",
    "```"
   ]
  }
 ],
 "metadata": {
  "kernelspec": {
   "display_name": "Python 3 (ipykernel)",
   "language": "python",
   "name": "python3"
  }
 },
 "nbformat": 4,
 "nbformat_minor": 5
}