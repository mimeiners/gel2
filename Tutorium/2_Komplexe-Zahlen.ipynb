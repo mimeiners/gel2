{
 "cells": [
  {
   "cell_type": "markdown",
   "id": "3b08cad5",
   "metadata": {},
   "source": [
    "# 2. Komplexe Zahlen\n",
    "\n",
    "- imaginäre Einheit\n",
    "- Aufbau komplexer Zahlen\n",
    "- Addition\n",
    "- Subtraktion\n",
    "- Betrag einer komplexen Zahl\n",
    "- Polarkoordinaten\n",
    "- Multiplikation\n",
    "- Division\n",
    "- Kehrwert\n",
    "- Konjugiert-Komplex"
   ]
  },
  {
   "cell_type": "markdown",
   "id": "a2c36ec2",
   "metadata": {},
   "source": [
    "## Die imaginäre Einheit\n",
    "\n",
    "Die imaginäre Einheit j ist definiert als:\n",
    "\n",
    "$$j^2 = -1$$\n",
    "\n",
    "Für höhere Potenzen von j erhält man:\n",
    "\n",
    "$$j^2 = -1$$\n",
    "\n",
    "$$j^3 = -j$$\n",
    "\n",
    "$$j^4 = 1$$\n",
    "\n",
    "$$j^5 = j$$\n",
    "\n",
    "$$j^6 = -1$$\n",
    "usw."
   ]
  },
  {
   "cell_type": "markdown",
   "id": "418679a7",
   "metadata": {},
   "source": [
    "## Aufbau komplexer Zahlen\n",
    "\n",
    "Komplexe Zahlen bestehen aus einem Real- und einem Imaginärteil. Sie werden durch einen Unterstrich gekennzeichnet. Ist der Buchstabe nicht unterstrichen, wird von dem Betrag der Komplexen Zahl geredet.\n",
    "\n",
    "$$\\underline{A} = Re\\{\\underline{A}\\} + j \\cdot Im\\{\\underline{A}\\}$$\n",
    "\n",
    "In der Elektrotechnik wird zur Kennzeichnung des Imaginärteils oft der Buchstabe j anstelle des i verwendet, da das i für die Bezeichnung des Stromes vorhergesehen ist."
   ]
  },
  {
   "cell_type": "markdown",
   "id": "9e0e13c2",
   "metadata": {},
   "source": [
    "## Rechenoperationen\n",
    "\n",
    "### Addition von komplexen Zahlen\n",
    "\n",
    "Zwei Komplexe Zahlen $\\underline{A}$ und $\\underline{B}$ werden addiert, indem ihre Real- und Imaginärteile getrennt voneinander addiert werden.\n",
    "\n",
    "$$\\underline{A} + \\underline{B} = Re\\{\\underline{A}\\} + Re\\{\\underline{B}\\} + j(Im\\{\\underline{A}\\} + Im\\{\\underline{B}\\})$$"
   ]
  },
  {
   "cell_type": "markdown",
   "id": "6fdc644b",
   "metadata": {},
   "source": [
    "### Subtraktion von komplexen Zahlen\n",
    "\n",
    "Zwei Komplexe Zahlen $\\underline{A}$ und $\\underline{B}$ werden subtrahiert, indem ihre Real- und Imaginärteile getrennt voneinander abgezogen werden.\n",
    "\n",
    "$$\\underline{A} - \\underline{B} = Re\\{\\underline{A}\\} - Re\\{\\underline{B}\\} + j(Im\\{\\underline{A}\\} - Im\\{\\underline{B}\\})$$"
   ]
  },
  {
   "cell_type": "markdown",
   "id": "82d6284d",
   "metadata": {},
   "source": [
    "### Betrag einer komplexen Zahl\n",
    "\n",
    "Der Betrag einer komplexen Zahl $\\underline{A}$ ist die Euklidische Länge des Vektors, wenn dieser zum Beispiel in einem Koordinatensystem gezeichnet ist. Der Betrag wird als $|\\underline{A}|$ oder vereinfacht als A geschrieben.\n",
    "\n",
    "$$A = |\\underline{A}| = \\sqrt{Re\\{\\underline{A}\\}^2 + Im\\{\\underline{A}\\}^2}$$"
   ]
  },
  {
   "cell_type": "markdown",
   "id": "bcae7398",
   "metadata": {},
   "source": [
    "### Phasenwinkel einer komplexen Zahl\n",
    "\n",
    "$$\\varphi = arctan\\left(\\frac{Im\\{\\underline{A}\\}}{Re\\{\\underline{A}\\}}\\right)$$\n",
    "\n",
    "Der Phasenwinkel wird überlicherweise von 0° bis 180° positiv (Zählweise CCW) und von 180° bis 360° negativ (Zählweise CW) angegeben."
   ]
  },
  {
   "cell_type": "markdown",
   "id": "0a637c70",
   "metadata": {},
   "source": [
    "### Eulersche Identität und Polarkoordinaten\n",
    "\n",
    "Komplexe Zahlen können auch als Polarkoordinaten über die Eulersche Identität beschrieben werden. Dabei setzt sich das aus Betrag und Phasenwinkel zusammen.\n",
    "\n",
    "$$\\underline{A} = Re\\{\\underline{A}\\} + j \\cdot Im\\{\\underline{A}\\} = A \\cdot e^{j\\varphi}$$\n",
    "\n",
    "#### Eulersche Identität\n",
    "\n",
    "$$e^{j\\varphi} = cos(\\varphi) + j \\cdot sin(\\varphi)$$\n",
    "\n",
    "![zeigerbild_euler](../images/Tutorium/chap2/eulersche_identitaet.png)\n",
    "\n",
    "Die komplexe Zahl $e^{j\\varphi}$ hat immer den Betrag 1 und den Phasenwinkel $\\varphi$.\n"
   ]
  },
  {
   "cell_type": "markdown",
   "id": "11bd9da5",
   "metadata": {},
   "source": [
    "### Multiplikation komplexer Zahlen\n",
    "\n",
    "Die Multiplikation ist über die Polarkoordinaten einfacher.  \n",
    "Bei der Multiplikation werden die Beträge multipliziert und die Phasenwinkel addiert.\n",
    "\n",
    "$$\\underline{A} \\cdot \\underline{B} = A \\cdot B \\cdot e^{j(\\varphi_A + \\varphi_B)}$$"
   ]
  },
  {
   "cell_type": "markdown",
   "id": "c6b25fec",
   "metadata": {},
   "source": [
    "### Division komplexer Zahlen\n",
    "\n",
    "Ähnlich zur Multiplikation wird bei der Division die Beträge dividiert und die Phasenwinkel subtrahiert.\n",
    "\n",
    "$$\\frac{\\underline{A}}{\\underline{B}} = \\frac{A}{B} \\cdot e^{j(\\varphi_A - \\varphi_B)}$$"
   ]
  },
  {
   "cell_type": "markdown",
   "id": "3cabac27",
   "metadata": {},
   "source": [
    "### Kehrwert einer komplexen Zahl\n",
    "\n",
    "Beim Kehrwert einer komplexen Zahl wird der Kehrwert des Betrages genommen und das Vorzeichen des Phasenwinkels invertiert.\n",
    "\n",
    "$$\\frac{1}{\\underline{A}} = \\frac{1}{A} \\cdot e^{-j\\varphi}$$"
   ]
  },
  {
   "cell_type": "markdown",
   "id": "6262b0f6",
   "metadata": {},
   "source": [
    "### Konjugiert-Komplex\n",
    "\n",
    "Bei dem konjugiert-komplexen einer Zahl wird das Vorzeichen des Imaginärteils invertiert. Dadurch verändert sich der Betrag nicht, der Phasenwinkel wird allerdings auch invertiert.\n",
    "\n",
    "$$\\underline{A} = Re\\{\\underline{A}\\} + j \\cdot Im\\{\\underline{A}\\}$$\n",
    "\n",
    "$$\\underline{A}^* = Re\\{\\underline{A}\\} - j \\cdot Im\\{\\underline{A}\\}$$"
   ]
  },
  {
   "cell_type": "markdown",
   "id": "8a5703c9",
   "metadata": {},
   "source": [
    "## Übungen\n",
    "\n",
    "### Aufgabe 2.1\n",
    "\n",
    "$\\sqrt{-9} + \\sqrt{-x^2} - \\sqrt{-y^2} + \\sqrt{-25}$"
   ]
  },
  {
   "cell_type": "markdown",
   "id": "2e39dd29",
   "metadata": {},
   "source": [
    "```{toggle}\n",
    "#### Lösung 2.1\n",
    "\n",
    "$$3\\sqrt{-1} + x\\sqrt{-1} - y\\sqrt{-1} + 5\\sqrt{-1} = j3 + jx - jy + j5 = j(8 +x -y)$$\n",
    "```"
   ]
  },
  {
   "cell_type": "markdown",
   "id": "1af6cd4b",
   "metadata": {},
   "source": [
    "### Aufgabe 2.2\n",
    "\n",
    "a) $\\frac{3 j^3 \\cdot 5 j^4}{6 j^{20}}$\n",
    "\n",
    "b) $\\frac{1}{j^5} + \\frac{1}{j^7}$"
   ]
  },
  {
   "cell_type": "markdown",
   "id": "b4d9a0bd",
   "metadata": {},
   "source": [
    "```{toggle}\n",
    "#### Lösung 2.2\n",
    "\n",
    "a) $$\\frac{-j3 \\cdot 5}{6 i^4} = \\frac{-j15}{6} = -j2,5$$\n",
    "\n",
    "b) $$\\frac{1}{j} + \\frac{1}{-j} = -j + j = 0$$\n",
    "```"
   ]
  },
  {
   "cell_type": "markdown",
   "id": "8ab9cdc7",
   "metadata": {},
   "source": [
    "### Aufgabe 2.3\n",
    "\n",
    "a) $(1 + 2j) - (-2 + 3j) + (-3 + j) - (5 + 4j) - (-1 + 9j) + (5 - 8j)$\n",
    "\n",
    "b) $(-2a + 3j) - (u - uj) + (-2a -3j) - (-u - vj)$"
   ]
  },
  {
   "cell_type": "markdown",
   "id": "e7a0c9b6",
   "metadata": {},
   "source": [
    "```{toggle}\n",
    "#### Lösung 2.3\n",
    "\n",
    "a) 1 - j21\n",
    "\n",
    "b) -4a + j(u + v)\n",
    "```"
   ]
  },
  {
   "cell_type": "markdown",
   "id": "f4b3ab5a",
   "metadata": {},
   "source": [
    "### Aufgabe 2.4\n",
    "\n",
    "a) $(5 - 2j)(-3 + j)$ (Ergebnis in kartesischer Form)\n",
    "\n",
    "b) $\\left(3\\sqrt{2} + 5\\sqrt{3}j\\right)\\left(3\\sqrt{2} - 5\\sqrt{3}j\\right)$ (Ergebnis in kartesischer Form)"
   ]
  },
  {
   "cell_type": "markdown",
   "id": "fcbcb939",
   "metadata": {},
   "source": [
    "```{toggle}\n",
    "#### Lösung 2.4\n",
    "\n",
    "a) -13 + j11\n",
    "\n",
    "b) 93\n",
    "```"
   ]
  },
  {
   "cell_type": "markdown",
   "id": "71474083",
   "metadata": {},
   "source": [
    "### Aufgabe 2.5\n",
    "\n",
    "a) $\\frac{3 + 4j}{2 + j}$\n",
    "\n",
    "b) $\\frac{1}{\\sqrt{5} - j}$\n",
    "\n",
    "c) $\\frac{3j}{1 - j}$"
   ]
  },
  {
   "cell_type": "markdown",
   "id": "5bbdd1ee",
   "metadata": {},
   "source": [
    "```{toggle}\n",
    "#### Lösung 2.5\n",
    "\n",
    "a) $\\frac{(3 + 4j)(2 - j)}{(2 + j)(2 - j)} = \\frac{6 + 8j - 3j + 4}{4 + 1} = 2 + j$\n",
    "\n",
    "b) $\\frac{1(\\sqrt{5} + j)}{(\\sqrt{5} - j)(\\sqrt{5} + j)} = \\frac{\\sqrt{5} + j}{5 + 1} = \\frac{\\sqrt{5}}{6} + j\\frac{1}{6}$\n",
    "\n",
    "c) $\\frac{3j(1 + j)}{(1 - j)(1 + j)} = \\frac{-3 + 3j}{1 + 1}= -\\frac{3}{2} + j\\frac{3}{2}$\n",
    "```"
   ]
  },
  {
   "cell_type": "markdown",
   "id": "bfc2bc18",
   "metadata": {},
   "source": [
    "### Aufgabe 2.6\n",
    "\n",
    "a) $\\frac{1 + j}{1 - j} + \\frac{1 - j}{1 + j}$\n",
    "\n",
    "b) $\\frac{1 - j}{1 + j} - \\frac{1 + j}{1 - j}$"
   ]
  },
  {
   "cell_type": "markdown",
   "id": "ac877a08",
   "metadata": {},
   "source": [
    "```{toggle}\n",
    "#### Lösung 2.6\n",
    "\n",
    "a) $\\frac{1 + j}{1 - j} + \\frac{1 - j}{1 + j} = \\frac{(1 + j)^2 + (1 - j)^2}{(1 - j)(1  + j)} = \\frac{1 + 2j - 1 + 1 -2j - 1}{1 + 1} = 0$\n",
    "\n",
    "b) $\\frac{(1 - j)^2 - (1 + j)^2}{(1 + j)(1 - j)} = \\frac{1 - 2j - 1 - (1 + 2j - 1)}{1 + 1} = \\frac{-4j}{2} = -2j$\n",
    "```"
   ]
  },
  {
   "cell_type": "markdown",
   "id": "89554979",
   "metadata": {},
   "source": [
    "### Aufgabe 2.7\n",
    "\n",
    "In die Exponentialform umwandeln:\n",
    "\n",
    "a) $0,5 - \\sqrt{6}j$\n",
    "\n",
    "b) $\\sqrt{3} + \\sqrt{3}j$\n",
    "\n",
    "c) 3 - 2j"
   ]
  },
  {
   "cell_type": "markdown",
   "id": "606e268a",
   "metadata": {},
   "source": [
    "```{toggle}\n",
    "#### Lösung 2.7\n",
    "\n",
    "a) $2,5 \\cdot e^{j \\cdot 4,914}$\n",
    "\n",
    "b) $2,45 \\cdot e^{j \\cdot \\frac{\\pi}{4}}$\n",
    "\n",
    "c) $3,61 \\cdot e^{j \\cdot 5,695}$\n",
    "```"
   ]
  },
  {
   "cell_type": "markdown",
   "id": "f15f2991",
   "metadata": {},
   "source": [
    "### Aufgabe 2.8\n",
    "\n",
    "In die arithmetische Form umwandeln:\n",
    "\n",
    "a) $83 e^{j \\cdot 1,1083}$\n",
    "\n",
    "b) $3,8 e^{-j \\cdot 5,524}$\n",
    "\n",
    "c) $e^{0,2 + 1,2j}$"
   ]
  },
  {
   "cell_type": "markdown",
   "id": "2f3d1456",
   "metadata": {},
   "source": [
    "```{toggle}\n",
    "#### Lösung 2.8\n",
    "\n",
    "a) $83(cos(1,1083) + j sin(1,1083)) = 37,03 + j74,28$\n",
    "\n",
    "b) $3,8(cos(-5,524) + j sin(-5,524)) = 2,757 + j2,616$\n",
    "\n",
    "c) $e^{0,2}(cos(1,2) + j sin(1,2)) = 0,443 + j1,138$\n",
    "```"
   ]
  },
  {
   "cell_type": "markdown",
   "id": "364aa573",
   "metadata": {},
   "source": [
    "### Aufgabe 2.9\n",
    "\n",
    "Für $z_1 = 1,5 - 0,5j$ und $z_2 = 3 + 0,5j$ die Exponentialform berechnen und die folgende Gleichung in der arithmetischen Form angeben:\n",
    "\n",
    "$$z = \\frac{z_1 \\cdot z_2}{z_1 + z_2}$$"
   ]
  },
  {
   "cell_type": "markdown",
   "id": "436395d1",
   "metadata": {},
   "source": [
    "```{toggle}\n",
    "#### Lösung 2.9\n",
    "\n",
    "$$z_1 = \\frac{\\sqrt{10}}{2} \\cdot e^{-j \\cdot 0,322}$$\n",
    "\n",
    "$$z_2 = \\frac{\\sqrt{37}}{2} \\cdot e^{j \\cdot 0,165}$$\n",
    "\n",
    "$$z_1 + z_2 = 4,5$$\n",
    "\n",
    "$$\\frac{\\frac{\\sqrt{370}}{4} \\cdot e^{j(-0,322 + 0,165)}}{4,5} = 1,069 \\cdot e^{-j 0,157} = 1,056 - j0,167$$\n",
    "```"
   ]
  },
  {
   "cell_type": "markdown",
   "id": "0db4d7e0",
   "metadata": {},
   "source": [
    "### Aufgabe 2.10\n",
    "\n",
    "Bringe den folgenden Term in die Darstellung $\\underline{A} = Re\\{\\underline{A}\\} + j \\cdot Im\\{\\underline{A}\\}$:\n",
    "\n",
    "$$\\frac{\\frac{1}{j\\omega C}}{R + \\frac{1}{j\\omega C}}$$"
   ]
  },
  {
   "cell_type": "markdown",
   "id": "d4062b47",
   "metadata": {},
   "source": [
    "```{toggle}\n",
    "#### Lösung 2.10\n",
    "\n",
    "$$\n",
    "\\frac{1}{j\\omega RC} = \\frac{1 - j\\omega RC}{(1 + j\\omega RC)(1- j\\omega RC)} = \\frac{1}{1 + (\\omega RC)^2} -\n",
    "j\\frac{\\omega RC}{1 + (\\omega RC)^2}\n",
    "$$ \n",
    "```"
   ]
  },
  {
   "cell_type": "markdown",
   "id": "5972f0d6",
   "metadata": {},
   "source": [
    "### Aufgabe 2.11\n",
    "\n",
    "Bringe den folgenden Term in die Darstellung $\\underline{A} = Re\\{\\underline{A}\\} + j \\cdot Im\\{\\underline{A}\\}$:\n",
    "\n",
    "$$\\frac{\\frac{1}{j\\omega C}}{j\\omega L + R + \\frac{1}{j\\omega C}}$$"
   ]
  },
  {
   "cell_type": "markdown",
   "id": "b8a3cc52",
   "metadata": {},
   "source": [
    "```{toggle}\n",
    "#### Lösung 2.11\n",
    "\n",
    "$$\n",
    "\\frac{1}{- \\omega^2 LC + j\\omega RC + 1} = \\frac{1 - \\omega^2 LC - j\\omega RC}{(1 - \\omega^2 LC)^2 + (\\omega RC)^2} =\n",
    "\\frac{1 - \\omega^2 LC}{(1 - \\omega^2 LC)^2 + (\\omega RC)^2} - j\\frac{\\omega RC}{(1 - \\omega^2 LC)^2 + (\\omega RC)^2}\n",
    "$$ \n",
    "```"
   ]
  }
 ],
 "metadata": {
  "kernelspec": {
   "display_name": "Python 3 (ipykernel)",
   "language": "python",
   "name": "python3"
  }
 },
 "nbformat": 4,
 "nbformat_minor": 5
}