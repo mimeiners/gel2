{
 "cells": [
  {
   "cell_type": "markdown",
   "id": "60c3b8e9",
   "metadata": {},
   "source": [
    "# 8. Schwingkreise\n",
    "\n",
    "- Reihenschwingkreis\n",
    "    - Resonanzfrequenz\n",
    "    - Bandbreite und Güte\n",
    "- Parallelschwingkreis\n",
    "    - Resonanzfrequenz\n",
    "    - Bandbreite und Güte"
   ]
  },
  {
   "cell_type": "markdown",
   "id": "5f17bf0a",
   "metadata": {},
   "source": [
    "## Schwingkreis\n",
    "\n",
    "Wenn man in der Elektrotechnik von \"Schwingen\" redet, dann versteht man darunter den wiederholten, wechselseitigen\n",
    "Energieaustausch, der zwischen zwei oder mehr Speichern passieren kann. Die Speicher sind für verschiedene Energieformen\n",
    "und wenn man in Form von Schaltelementen denkt, dann entsteht diese Speicherung durch elektrische und magnetische\n",
    "Felder. Zwei Bauteile, die bereits eingeführt wurden, die elektrische oder magnetische Felder aufbauen, sind die\n",
    "Kapazität C und die Induktivität L.\n",
    "\n",
    "Da Kapazität und Induktivität nur als reale Bauteile, also als Kondensator und Spule, auftreten, kommt noch der\n",
    "Wirkwiderstand R hinzu. Diese Bauteile können in Form eines Reihenschwingkreises oder Parallelschwingkreises angeordnet\n",
    "sein. "
   ]
  },
  {
   "cell_type": "markdown",
   "id": "cca73d61",
   "metadata": {},
   "source": [
    "## Reihenschwingkreis"
   ]
  },
  {
   "cell_type": "markdown",
   "id": "c72c53dd",
   "metadata": {},
   "source": [
    "```{figure} ../images/Tutorium/chap9/chap9_reihenschwingkreis.png\n",
    ":name: fig:TutChap9_reihenschwingkreis\n",
    "```\n",
    "{cite}`schenke2023`"
   ]
  },
  {
   "cell_type": "markdown",
   "id": "77e1945a",
   "metadata": {},
   "source": [
    "Es muss eine Kreisfrequenz geben, bei der diese Schaltung den maximalen Strom leitet. Aus dem Ohmschen Gesetzt weiß man,\n",
    "dass der Strom maximal ist, wenn der Widerstand (in diesem Fall die Impedanz) minimal ist. \n",
    "\n",
    "$$\\underline{Z} = R + j\\omega L + \\frac{1}{j\\omega C} = R + j\\left(\\omega L - \\frac{1}{\\omega C}\\right)$$"
   ]
  },
  {
   "cell_type": "markdown",
   "id": "4506eb28",
   "metadata": {},
   "source": [
    "### Resonanzfrequenz\n",
    "\n",
    "Gibt es eine Frequenz, die dafür sorgt, dass der Imaginärteil der Impedanz zu null wird?\n",
    "\n",
    "$$Im(\\underline{Z}) = 0$$\n",
    "\n",
    "$$\\omega L = \\frac{1}{\\omega C}$$\n",
    "\n",
    "$$\\omega_0 = \\frac{1}{\\sqrt{LC}} = 2\\pi \\cdot f_0$$\n",
    "\n",
    "$f_0$ wird Resonanzfrequenz genannt, bei ihr ist der Strom maximal und es wird die maximale Leistung umgesetzt:\n",
    "\n",
    "$$P_{max} = I_{max}^2 \\cdot R$$"
   ]
  },
  {
   "cell_type": "markdown",
   "id": "9b07d8a4",
   "metadata": {},
   "source": [
    "### Bandbreite und Güte\n",
    "\n",
    "Bei den \"Grenzfrequenzen\" des Schwingkreises wird die Hälfte der Leistung aufgenommen, also:\n",
    "\n",
    "$$P_{1,2} = \\frac{I_{max}^2 \\cdot R}{2}$$\n",
    "\n",
    "$$I_{1,2} = \\frac{I_{max}}{\\sqrt{2}}$$\n",
    "\n",
    "Der Abstand zwischen den Grenzfrequenzen nennt man die Bandbreite B.\n",
    "\n",
    "$$B = f_2 - f_1 = \\frac{R}{2\\pi \\cdot L}$$\n",
    "\n",
    "Über die Bandbreite kann auch die Güte Q des Schwingkreises angegeben werden.\n",
    "\n",
    "$$Q = \\frac{f_0}{B} = \\frac{1}{R}\\sqrt{\\frac{L}{C}}$$\n",
    "\n",
    "```{figure} ../images/Tutorium/chap9/chap9_reihenschwingkreis-bandbreite.png\n",
    ":name: fig:TutChap9_reihenschwingkreis-bandbreite\n",
    "```\n",
    "{cite}`schenke2023`"
   ]
  },
  {
   "cell_type": "markdown",
   "id": "23a8c217",
   "metadata": {},
   "source": [
    "## Parallelschwingkreis\n",
    "\n",
    "```{figure} ../images/Tutorium/chap9/chap9_parallelschwingkreis.png\n",
    ":name: fig:TutChap9_parallelschwingkreis\n",
    "```\n",
    "{cite}`schenke2023`\n",
    "\n",
    "Es muss eine Kreisfrequenz geben, bei der diese Schaltung die maximale Spannung hat. Aus dem Ohmschen Gesetzt weiß man,\n",
    "dass die Spannung maximal ist, wenn der Widerstand (in diesem Fall die Impedanz) maximal ist. Alternativ kann man sich\n",
    "auch die Admittanz ansehen, die müsste jedoch dann minimal werden. \n",
    "\n",
    "$$\\underline{Y} = \\frac{1}{R} + j\\omega C + \\frac{1}{j\\omega L} = \\frac{1}{R} + j\\left(\\omega C - \\frac{1}{\\omega L}\\right)$$"
   ]
  },
  {
   "cell_type": "markdown",
   "id": "677acc5c",
   "metadata": {},
   "source": [
    "### Resonanzfrequenz\n",
    "\n",
    "Gibt es eine Frequenz, die dafür sorgt, dass der Imaginärteil der Admittanz zu null wird?\n",
    "\n",
    "$$Im(\\underline{Y}) = 0$$\n",
    "\n",
    "$$\\omega C = \\frac{1}{\\omega L}$$\n",
    "\n",
    "$$\\omega_0 = \\frac{1}{\\sqrt{LC}} = 2\\pi \\cdot f_0$$\n",
    "\n",
    "$f_0$ wird Resonanzfrequenz genannt, bei ihr ist der Strom maximal und es wird die maximale Leistung umgesetzt:\n",
    "\n",
    "$$P_{max} = \\frac{U_{max}^2}{R}$$"
   ]
  },
  {
   "cell_type": "markdown",
   "id": "acc13fa7",
   "metadata": {},
   "source": [
    "### Bandbreite und Güte\n",
    "\n",
    "Bei den \"Grenzfrequenzen\" des Schwingkreises wird die Hälfte der Leistung aufgenommen, also:\n",
    "\n",
    "$$P_{1,2} = \\frac{U_{max}^2}{2R}$$\n",
    "\n",
    "$$U_{1,2} = \\frac{U_{max}}{\\sqrt{2}}$$\n",
    "\n",
    "Der Abstand zwischen den Grenzfrequenzen nennt man die Bandbreite B.\n",
    "\n",
    "$$B = f_2 - f_1 = \\frac{1}{2\\pi \\cdot RC}$$\n",
    "\n",
    "Über die Bandbreite kann auch die Güte Q des Schwingkreises angegeben werden.\n",
    "\n",
    "$$Q = \\frac{f_0}{B} = \\frac{1}{G}\\sqrt{\\frac{C}{L}}$$"
   ]
  },
  {
   "cell_type": "markdown",
   "id": "bd8829f1",
   "metadata": {},
   "source": [
    "## Übungen\n",
    "\n",
    "### Übung 9.1\n",
    "\n",
    "(Hagmann Aufgabe 10.1)\n",
    "\n",
    "Der im Bild dargestellte Reihenschwingkreis enthält die Wirkwiderstände $R_1 = 400\\,\\Omega$ und $R_2 = 100\\,\\Omega$ sowie eine Spule mit der Induktivität $L = 32\\,mH$ und einen Kondensator mit der Kapazität $C = 1\\,\\mu F$.\n",
    "\n",
    "a) Wie groß ist die Resonanzfrequenz $f_r$ der Schaltung?\n",
    "\n",
    "b) Welchen Widerstand $Z_r$ hat die Schaltung im Resonanzzustand?\n",
    "\n",
    "```{figure} ../images/Tutorium/chap9/chap9_aufgabe9.1.jpg\n",
    ":name: fig:TutChap9_aufgabe9.1\n",
    "```\n",
    "{cite}`hagmann2019`"
   ]
  },
  {
   "cell_type": "markdown",
   "id": "a2bd2eb7",
   "metadata": {},
   "source": [
    "```{admonition} Lösung 9.1\n",
    ":class: dropdown\n",
    "\n",
    "a)\n",
    "\n",
    "Impedanz der Schaltung:\n",
    "\n",
    "$$\\underline{Z} = \\frac{1}{\\frac{1}{R_1} + j\\omega C} + R_2 + j\\omega L$$\n",
    "\n",
    "Konjugiert-Komplex erweitern und umstellen nach Real- und Imaginärteil:\n",
    "\n",
    "$$\\underline{Z} = R_2 + \\frac{\\frac{1}{R_1}}{\\left( \\frac{1}{R_1} \\right)^2 + (\\omega C)^2} + j \\left( \\omega L -\\frac{\\omega C}{\\left( \\frac{1}{R_1} \\right)^2 + (\\omega C)^2} \\right)$$\n",
    "\n",
    "Resonanzbedingung $Im(\\underline{Z}) = 0$:\n",
    "\n",
    "$$\\omega L -\\frac{\\omega C}{\\left( \\frac{1}{R_1} \\right)^2 + (\\omega C)^2} = 0$$\n",
    "\n",
    "$$\\omega_r = \\sqrt{\\frac{1}{LC} - \\left( \\frac{1}{R_1 C} \\right)^2} = \\sqrt{\\frac{1}{32\\,mH \\cdot 1\\,\\mu F} - \\left( \\frac{1}{400\\,\\Omega \\cdot 1\\,\\mu F} \\right)^2} = 5000 \\frac{1}{s}$$\n",
    "\n",
    "$$\n",
    "f_r = \\frac{\\omega_r}{2\\pi} = \\frac{5000 s^{-1}}{2\\pi} = 796\\,Hz\n",
    "$$\n",
    "\n",
    "b)\n",
    "\n",
    "Resonanzschaltung $Im(\\underline{Z}) = 0$:\n",
    "\n",
    "$$\n",
    "Z_r = Re(\\underline{Z}) = R_2 + \\frac{\\frac{1}{R_1}}{\\left( \\frac{1}{R_1} \\right)^2 + (\\omega C)^2} = 100\\,\\Omega +\n",
    "\\frac{\\frac{1}{400\\,\\Omega}}{\\left( \\frac{1}{400\\,\\Omega} \\right)^2 + \\left( 5000 s^{-1} \\cdot 1\\,\\mu F \\right)^2} =\n",
    "180\\,\\Omega\n",
    "$$ \n",
    "```"
   ]
  },
  {
   "cell_type": "markdown",
   "id": "ef039adc",
   "metadata": {},
   "source": [
    "### Übung 9.2\n",
    "\n",
    "(Hagmann Augabe 10.2)\n",
    "\n",
    "Der im Bild dargestellte Parallelschwingkreis enthält den Wirkwiderstand $R = 20\\,\\Omega$ und eine Spule mit der Induktivität $L = 10\\,mH$. Die Kapazität $C$ des vorhandenen Kondensators soll so gewählt werden, das sich die Schaltung im Resonanzzustand befindet. Die Versorgungsspannung beträgt $U = 20\\,V$. Sie hat die Frequenz $f = 800\\,Hz$.\n",
    "\n",
    "a) Welche Kapazität $C$ muss der Kondensator haben?\n",
    "\n",
    "b) Wie groß ist hierbei der von der Spannungsquelle gelieferte Strom $I$?\n",
    "\n",
    "```{figure} ../images/Tutorium/chap9/chap9_aufgabe9.2.jpg\n",
    ":name: fig:TutChap9_aufgabe9.2\n",
    "```\n",
    "{cite}`hagmann2019`"
   ]
  },
  {
   "cell_type": "markdown",
   "id": "5b42143b",
   "metadata": {},
   "source": [
    "```{admonition} Lösung 9.2\n",
    ":class: dropdown\n",
    "\n",
    "a)\n",
    "\n",
    "Admittanz der Schaltung:\n",
    "\n",
    "$$\\underline{Y} = \\frac{1}{R + j\\omega L} + j\\omega C$$\n",
    "\n",
    "Konjugiert-komplex erweitern und nach Real- und Imaginärteil umstellen:\n",
    "\n",
    "$$\\underline{Y} = \\frac{R}{R^2 + (\\omega L)^2} + j\\left( \\omega C - \\frac{\\omega L}{R^2 + (\\omega L)^2} \\right)$$\n",
    "\n",
    "Resonanzbedingung $Im(\\underline{Y})$:\n",
    "\n",
    "$$\\omega C = \\frac{\\omega L}{R^2 + (\\omega L)^2}$$\n",
    "\n",
    "$$C = \\frac{L}{R^2 + (\\omega L)^2} = \\frac{10\\,mH}{(20\\,\\Omega)^2 + (2\\pi \\cdot 800\\,Hz \\cdot 10\\,mH)^2} = 3,42\\,\\mu F$$\n",
    "\n",
    "b)\n",
    "\n",
    "Resonanzzustand $Im(\\underline{Y}) = 0$:\n",
    "\n",
    "$$Y_r = \\frac{R}{R^2 + (\\omega L)^2} = \\frac{20\\,\\Omega}{(20\\,\\Omega)^2 + (2\\pi \\cdot 800\\,Hz \\cdot 10\\,mH)^2} = 6,83\\,mS$$\n",
    "\n",
    "$$I = U \\cdot Y_r = 20\\,V \\cdot 6,83\\,mS = 137\\,mA$$\n",
    "```"
   ]
  },
  {
   "cell_type": "markdown",
   "id": "72171c89",
   "metadata": {},
   "source": [
    "### Übung 9.3\n",
    "\n",
    "(Hagmann Aufgabe 10.5)\n",
    "\n",
    "Der im Bild (a) dargestellte Reihenschwingkreis liegt an einer Wechselspannung von $U = 60\\,V$ mit veränderbarer Frequenz. Von der Schaltung ist die in Bild (b) angegebene Resonanzkurve bekannt. Hierbei stellen $I$ den im Kreis fließenden Strom und $\\omega$ die Kreisfrequenz der Wechselspannung dar.\n",
    "\n",
    "Welche Werte haben der Wirkwiderstand $R$, die Induktivität $L$ und die Kapazität $C$ der Schaltung?\n",
    "\n",
    "```{figure} ../images/Tutorium/chap9/chap9_aufgabe9.3.jpg\n",
    ":name: fig:TutChap9_aufgabe9.3\n",
    "```\n",
    "{cite}`hagmann2019`"
   ]
  },
  {
   "cell_type": "markdown",
   "id": "46645316",
   "metadata": {},
   "source": [
    "```{admonition} Lösung 9.3\n",
    ":class: dropdown\n",
    "\n",
    "im Resonanzzustand:\n",
    "\n",
    "$$\\omega = \\omega_r = 4000\\,s^{-1}$$\n",
    "\n",
    "$$I = I_r = 80\\,mA$$\n",
    "\n",
    "daraus ergibt sich der Wirkwiderstand:\n",
    "\n",
    "$$R = \\frac{U}{I_r} = \\frac{60\\,V}{80\\,mA} = 750\\,\\Omega$$\n",
    "\n",
    "Scheinwiderstand bei $\\omega_1 = 2750\\,s^{-1}$:\n",
    "\n",
    "$$Z_1 = \\frac{U}{I_1} = \\frac{60\\,V}{50\\,mA} = 1200\\,\\Omega$$\n",
    "\n",
    "außerdem gilt:\n",
    "\n",
    "$$Z_1^2 = R^2 + \\left( \\omega_1 L - \\frac{1}{\\omega_1 C} \\right)^2$$\n",
    "\n",
    "$$\\omega_r L = \\frac{1}{\\omega_r C}$$\n",
    "\n",
    "Gl. Nr.2 nach C auflösen und in Gl. Nr.1 einsetzen:\n",
    "\n",
    "$$Z_1^2 = R^2 + \\left( \\omega_1 L - \\frac{\\omega_r^2}{\\omega_1} L \\right)^2$$\n",
    "\n",
    "$$L = \\frac{\\pm \\sqrt{Z_1^2 - R^2}}{\\omega_1 - \\frac{\\omega_r^2}{\\omega_1}} = \\frac{\\pm \\sqrt{1200^2 - 750^2}\\,\\Omega}{\\left(2750 - \\frac{4000^2}{2750} \\right)\\,s^{-1}} = \\pm 305\\,mH$$\n",
    "\n",
    "$$L = 305\\,mH$$\n",
    "\n",
    "$$C = \\frac{1}{\\omega_r^2 L} = \\frac{1}{\\left( 4000 s^{-1} \\right)^2 \\cdot 305\\,mH} = 205\\,nF$$\n",
    "```\n"
   ]
  }
 ],
 "metadata": {
  "kernelspec": {
   "display_name": "base",
   "language": "python",
   "name": "python3"
  }
 },
 "nbformat": 4,
 "nbformat_minor": 5
}